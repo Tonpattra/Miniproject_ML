{
 "cells": [
  {
   "cell_type": "markdown",
   "metadata": {},
   "source": [
    "**Table of contents**<a id='toc0_'></a>    \n",
    "- [load data](#toc1_)    \n",
    "    - [grouping test](#toc1_1_1_)    \n",
    "    - [prepare data](#toc1_1_2_)    \n",
    "- [EDA](#toc2_)    \n",
    "- [data engineering](#toc3_)    \n",
    "- [split data](#toc4_)    \n",
    "- [preprocess](#toc5_)    \n",
    "  - [imputation](#toc5_1_)    \n",
    "  - [outlier](#toc5_2_)    \n",
    "  - [scalling](#toc5_3_)    \n",
    "- [training](#toc6_)    \n",
    "- [Test](#toc7_)    \n",
    "  - [save](#toc7_1_)    \n",
    "  - [load](#toc7_2_)    \n",
    "- [Inference](#toc8_)    \n",
    "  - [prediction](#toc8_1_)    \n",
    "  - [question selector](#toc8_2_)    \n",
    "    - [algorithm](#toc8_2_1_)    \n",
    "    - [reinforcement](#toc8_2_2_)    \n",
    "\n",
    "<!-- vscode-jupyter-toc-config\n",
    "\tnumbering=false\n",
    "\tanchor=true\n",
    "\tflat=false\n",
    "\tminLevel=1\n",
    "\tmaxLevel=6\n",
    "\t/vscode-jupyter-toc-config -->\n",
    "<!-- THIS CELL WILL BE REPLACED ON TOC UPDATE. DO NOT WRITE YOUR TEXT IN THIS CELL -->"
   ]
  },
  {
   "cell_type": "code",
   "execution_count": 47,
   "metadata": {},
   "outputs": [],
   "source": [
    "import numpy as np\n",
    "import pandas as pd\n",
    "import sklearn\n",
    "import matplotlib as mpl\n",
    "import matplotlib.pyplot as plt\n"
   ]
  },
  {
   "cell_type": "code",
   "execution_count": 48,
   "metadata": {},
   "outputs": [
    {
     "data": {
      "text/plain": [
       "('1.24.3', '2.1.0', '1.3.0')"
      ]
     },
     "execution_count": 48,
     "metadata": {},
     "output_type": "execute_result"
    }
   ],
   "source": [
    "np.__version__,pd.__version__,sklearn.__version__"
   ]
  },
  {
   "cell_type": "markdown",
   "metadata": {},
   "source": [
    "# <a id='toc1_'></a>[load data](#toc0_)"
   ]
  },
  {
   "cell_type": "code",
   "execution_count": 49,
   "metadata": {},
   "outputs": [],
   "source": [
    "df = pd.read_csv('datasets/disease/dataset.csv') # datapath "
   ]
  },
  {
   "cell_type": "code",
   "execution_count": 50,
   "metadata": {},
   "outputs": [
    {
     "data": {
      "text/html": [
       "<div>\n",
       "<style scoped>\n",
       "    .dataframe tbody tr th:only-of-type {\n",
       "        vertical-align: middle;\n",
       "    }\n",
       "\n",
       "    .dataframe tbody tr th {\n",
       "        vertical-align: top;\n",
       "    }\n",
       "\n",
       "    .dataframe thead th {\n",
       "        text-align: right;\n",
       "    }\n",
       "</style>\n",
       "<table border=\"1\" class=\"dataframe\">\n",
       "  <thead>\n",
       "    <tr style=\"text-align: right;\">\n",
       "      <th></th>\n",
       "      <th>Disease</th>\n",
       "      <th>Symptom_1</th>\n",
       "      <th>Symptom_2</th>\n",
       "      <th>Symptom_3</th>\n",
       "      <th>Symptom_4</th>\n",
       "      <th>Symptom_5</th>\n",
       "      <th>Symptom_6</th>\n",
       "      <th>Symptom_7</th>\n",
       "      <th>Symptom_8</th>\n",
       "      <th>Symptom_9</th>\n",
       "      <th>Symptom_10</th>\n",
       "      <th>Symptom_11</th>\n",
       "      <th>Symptom_12</th>\n",
       "      <th>Symptom_13</th>\n",
       "      <th>Symptom_14</th>\n",
       "      <th>Symptom_15</th>\n",
       "      <th>Symptom_16</th>\n",
       "      <th>Symptom_17</th>\n",
       "    </tr>\n",
       "  </thead>\n",
       "  <tbody>\n",
       "    <tr>\n",
       "      <th>0</th>\n",
       "      <td>Fungal infection</td>\n",
       "      <td>itching</td>\n",
       "      <td>skin_rash</td>\n",
       "      <td>nodal_skin_eruptions</td>\n",
       "      <td>dischromic _patches</td>\n",
       "      <td>NaN</td>\n",
       "      <td>NaN</td>\n",
       "      <td>NaN</td>\n",
       "      <td>NaN</td>\n",
       "      <td>NaN</td>\n",
       "      <td>NaN</td>\n",
       "      <td>NaN</td>\n",
       "      <td>NaN</td>\n",
       "      <td>NaN</td>\n",
       "      <td>NaN</td>\n",
       "      <td>NaN</td>\n",
       "      <td>NaN</td>\n",
       "      <td>NaN</td>\n",
       "    </tr>\n",
       "    <tr>\n",
       "      <th>1</th>\n",
       "      <td>Fungal infection</td>\n",
       "      <td>skin_rash</td>\n",
       "      <td>nodal_skin_eruptions</td>\n",
       "      <td>dischromic _patches</td>\n",
       "      <td>NaN</td>\n",
       "      <td>NaN</td>\n",
       "      <td>NaN</td>\n",
       "      <td>NaN</td>\n",
       "      <td>NaN</td>\n",
       "      <td>NaN</td>\n",
       "      <td>NaN</td>\n",
       "      <td>NaN</td>\n",
       "      <td>NaN</td>\n",
       "      <td>NaN</td>\n",
       "      <td>NaN</td>\n",
       "      <td>NaN</td>\n",
       "      <td>NaN</td>\n",
       "      <td>NaN</td>\n",
       "    </tr>\n",
       "    <tr>\n",
       "      <th>2</th>\n",
       "      <td>Fungal infection</td>\n",
       "      <td>itching</td>\n",
       "      <td>nodal_skin_eruptions</td>\n",
       "      <td>dischromic _patches</td>\n",
       "      <td>NaN</td>\n",
       "      <td>NaN</td>\n",
       "      <td>NaN</td>\n",
       "      <td>NaN</td>\n",
       "      <td>NaN</td>\n",
       "      <td>NaN</td>\n",
       "      <td>NaN</td>\n",
       "      <td>NaN</td>\n",
       "      <td>NaN</td>\n",
       "      <td>NaN</td>\n",
       "      <td>NaN</td>\n",
       "      <td>NaN</td>\n",
       "      <td>NaN</td>\n",
       "      <td>NaN</td>\n",
       "    </tr>\n",
       "    <tr>\n",
       "      <th>3</th>\n",
       "      <td>Fungal infection</td>\n",
       "      <td>itching</td>\n",
       "      <td>skin_rash</td>\n",
       "      <td>dischromic _patches</td>\n",
       "      <td>NaN</td>\n",
       "      <td>NaN</td>\n",
       "      <td>NaN</td>\n",
       "      <td>NaN</td>\n",
       "      <td>NaN</td>\n",
       "      <td>NaN</td>\n",
       "      <td>NaN</td>\n",
       "      <td>NaN</td>\n",
       "      <td>NaN</td>\n",
       "      <td>NaN</td>\n",
       "      <td>NaN</td>\n",
       "      <td>NaN</td>\n",
       "      <td>NaN</td>\n",
       "      <td>NaN</td>\n",
       "    </tr>\n",
       "  </tbody>\n",
       "</table>\n",
       "</div>"
      ],
      "text/plain": [
       "            Disease   Symptom_1              Symptom_2              Symptom_3  \\\n",
       "0  Fungal infection     itching              skin_rash   nodal_skin_eruptions   \n",
       "1  Fungal infection   skin_rash   nodal_skin_eruptions    dischromic _patches   \n",
       "2  Fungal infection     itching   nodal_skin_eruptions    dischromic _patches   \n",
       "3  Fungal infection     itching              skin_rash    dischromic _patches   \n",
       "\n",
       "              Symptom_4 Symptom_5 Symptom_6 Symptom_7 Symptom_8 Symptom_9  \\\n",
       "0   dischromic _patches       NaN       NaN       NaN       NaN       NaN   \n",
       "1                   NaN       NaN       NaN       NaN       NaN       NaN   \n",
       "2                   NaN       NaN       NaN       NaN       NaN       NaN   \n",
       "3                   NaN       NaN       NaN       NaN       NaN       NaN   \n",
       "\n",
       "  Symptom_10 Symptom_11 Symptom_12 Symptom_13 Symptom_14 Symptom_15  \\\n",
       "0        NaN        NaN        NaN        NaN        NaN        NaN   \n",
       "1        NaN        NaN        NaN        NaN        NaN        NaN   \n",
       "2        NaN        NaN        NaN        NaN        NaN        NaN   \n",
       "3        NaN        NaN        NaN        NaN        NaN        NaN   \n",
       "\n",
       "  Symptom_16 Symptom_17  \n",
       "0        NaN        NaN  \n",
       "1        NaN        NaN  \n",
       "2        NaN        NaN  \n",
       "3        NaN        NaN  "
      ]
     },
     "execution_count": 50,
     "metadata": {},
     "output_type": "execute_result"
    }
   ],
   "source": [
    "df.head(4) # see data sample"
   ]
  },
  {
   "cell_type": "code",
   "execution_count": 51,
   "metadata": {},
   "outputs": [
    {
     "data": {
      "text/plain": [
       "array(['Fungal infection', 'Allergy', 'GERD', 'Chronic cholestasis',\n",
       "       'Drug Reaction', 'Peptic ulcer diseae', 'AIDS', 'Diabetes ',\n",
       "       'Gastroenteritis', 'Bronchial Asthma', 'Hypertension ', 'Migraine',\n",
       "       'Cervical spondylosis', 'Paralysis (brain hemorrhage)', 'Jaundice',\n",
       "       'Malaria', 'Chicken pox', 'Dengue', 'Typhoid', 'hepatitis A',\n",
       "       'Hepatitis B', 'Hepatitis C', 'Hepatitis D', 'Hepatitis E',\n",
       "       'Alcoholic hepatitis', 'Tuberculosis', 'Common Cold', 'Pneumonia',\n",
       "       'Dimorphic hemmorhoids(piles)', 'Heart attack', 'Varicose veins',\n",
       "       'Hypothyroidism', 'Hyperthyroidism', 'Hypoglycemia',\n",
       "       'Osteoarthristis', 'Arthritis',\n",
       "       '(vertigo) Paroymsal  Positional Vertigo', 'Acne',\n",
       "       'Urinary tract infection', 'Psoriasis', 'Impetigo'], dtype=object)"
      ]
     },
     "execution_count": 51,
     "metadata": {},
     "output_type": "execute_result"
    }
   ],
   "source": [
    "df['Disease'].unique()"
   ]
  },
  {
   "cell_type": "code",
   "execution_count": 52,
   "metadata": {},
   "outputs": [
    {
     "data": {
      "text/html": [
       "<div>\n",
       "<style scoped>\n",
       "    .dataframe tbody tr th:only-of-type {\n",
       "        vertical-align: middle;\n",
       "    }\n",
       "\n",
       "    .dataframe tbody tr th {\n",
       "        vertical-align: top;\n",
       "    }\n",
       "\n",
       "    .dataframe thead th {\n",
       "        text-align: right;\n",
       "    }\n",
       "</style>\n",
       "<table border=\"1\" class=\"dataframe\">\n",
       "  <thead>\n",
       "    <tr style=\"text-align: right;\">\n",
       "      <th></th>\n",
       "      <th>Symptom_1</th>\n",
       "      <th>Symptom_2</th>\n",
       "      <th>Symptom_3</th>\n",
       "      <th>Symptom_4</th>\n",
       "      <th>Symptom_5</th>\n",
       "      <th>Symptom_6</th>\n",
       "      <th>Symptom_7</th>\n",
       "      <th>Symptom_8</th>\n",
       "      <th>Symptom_9</th>\n",
       "      <th>Symptom_10</th>\n",
       "      <th>Symptom_11</th>\n",
       "      <th>Symptom_12</th>\n",
       "      <th>Symptom_13</th>\n",
       "      <th>Symptom_14</th>\n",
       "      <th>Symptom_15</th>\n",
       "      <th>Symptom_16</th>\n",
       "      <th>Symptom_17</th>\n",
       "    </tr>\n",
       "  </thead>\n",
       "  <tbody>\n",
       "    <tr>\n",
       "      <th>0</th>\n",
       "      <td>itching</td>\n",
       "      <td>skin_rash</td>\n",
       "      <td>nodal_skin_eruptions</td>\n",
       "      <td>dischromic _patches</td>\n",
       "      <td>NaN</td>\n",
       "      <td>NaN</td>\n",
       "      <td>NaN</td>\n",
       "      <td>NaN</td>\n",
       "      <td>NaN</td>\n",
       "      <td>NaN</td>\n",
       "      <td>NaN</td>\n",
       "      <td>NaN</td>\n",
       "      <td>NaN</td>\n",
       "      <td>NaN</td>\n",
       "      <td>NaN</td>\n",
       "      <td>NaN</td>\n",
       "      <td>NaN</td>\n",
       "    </tr>\n",
       "    <tr>\n",
       "      <th>1</th>\n",
       "      <td>skin_rash</td>\n",
       "      <td>nodal_skin_eruptions</td>\n",
       "      <td>dischromic _patches</td>\n",
       "      <td>NaN</td>\n",
       "      <td>NaN</td>\n",
       "      <td>NaN</td>\n",
       "      <td>NaN</td>\n",
       "      <td>NaN</td>\n",
       "      <td>NaN</td>\n",
       "      <td>NaN</td>\n",
       "      <td>NaN</td>\n",
       "      <td>NaN</td>\n",
       "      <td>NaN</td>\n",
       "      <td>NaN</td>\n",
       "      <td>NaN</td>\n",
       "      <td>NaN</td>\n",
       "      <td>NaN</td>\n",
       "    </tr>\n",
       "    <tr>\n",
       "      <th>2</th>\n",
       "      <td>itching</td>\n",
       "      <td>nodal_skin_eruptions</td>\n",
       "      <td>dischromic _patches</td>\n",
       "      <td>NaN</td>\n",
       "      <td>NaN</td>\n",
       "      <td>NaN</td>\n",
       "      <td>NaN</td>\n",
       "      <td>NaN</td>\n",
       "      <td>NaN</td>\n",
       "      <td>NaN</td>\n",
       "      <td>NaN</td>\n",
       "      <td>NaN</td>\n",
       "      <td>NaN</td>\n",
       "      <td>NaN</td>\n",
       "      <td>NaN</td>\n",
       "      <td>NaN</td>\n",
       "      <td>NaN</td>\n",
       "    </tr>\n",
       "    <tr>\n",
       "      <th>3</th>\n",
       "      <td>itching</td>\n",
       "      <td>skin_rash</td>\n",
       "      <td>dischromic _patches</td>\n",
       "      <td>NaN</td>\n",
       "      <td>NaN</td>\n",
       "      <td>NaN</td>\n",
       "      <td>NaN</td>\n",
       "      <td>NaN</td>\n",
       "      <td>NaN</td>\n",
       "      <td>NaN</td>\n",
       "      <td>NaN</td>\n",
       "      <td>NaN</td>\n",
       "      <td>NaN</td>\n",
       "      <td>NaN</td>\n",
       "      <td>NaN</td>\n",
       "      <td>NaN</td>\n",
       "      <td>NaN</td>\n",
       "    </tr>\n",
       "    <tr>\n",
       "      <th>4</th>\n",
       "      <td>itching</td>\n",
       "      <td>skin_rash</td>\n",
       "      <td>nodal_skin_eruptions</td>\n",
       "      <td>NaN</td>\n",
       "      <td>NaN</td>\n",
       "      <td>NaN</td>\n",
       "      <td>NaN</td>\n",
       "      <td>NaN</td>\n",
       "      <td>NaN</td>\n",
       "      <td>NaN</td>\n",
       "      <td>NaN</td>\n",
       "      <td>NaN</td>\n",
       "      <td>NaN</td>\n",
       "      <td>NaN</td>\n",
       "      <td>NaN</td>\n",
       "      <td>NaN</td>\n",
       "      <td>NaN</td>\n",
       "    </tr>\n",
       "  </tbody>\n",
       "</table>\n",
       "</div>"
      ],
      "text/plain": [
       "    Symptom_1              Symptom_2              Symptom_3  \\\n",
       "0     itching              skin_rash   nodal_skin_eruptions   \n",
       "1   skin_rash   nodal_skin_eruptions    dischromic _patches   \n",
       "2     itching   nodal_skin_eruptions    dischromic _patches   \n",
       "3     itching              skin_rash    dischromic _patches   \n",
       "4     itching              skin_rash   nodal_skin_eruptions   \n",
       "\n",
       "              Symptom_4 Symptom_5 Symptom_6 Symptom_7 Symptom_8 Symptom_9  \\\n",
       "0   dischromic _patches       NaN       NaN       NaN       NaN       NaN   \n",
       "1                   NaN       NaN       NaN       NaN       NaN       NaN   \n",
       "2                   NaN       NaN       NaN       NaN       NaN       NaN   \n",
       "3                   NaN       NaN       NaN       NaN       NaN       NaN   \n",
       "4                   NaN       NaN       NaN       NaN       NaN       NaN   \n",
       "\n",
       "  Symptom_10 Symptom_11 Symptom_12 Symptom_13 Symptom_14 Symptom_15  \\\n",
       "0        NaN        NaN        NaN        NaN        NaN        NaN   \n",
       "1        NaN        NaN        NaN        NaN        NaN        NaN   \n",
       "2        NaN        NaN        NaN        NaN        NaN        NaN   \n",
       "3        NaN        NaN        NaN        NaN        NaN        NaN   \n",
       "4        NaN        NaN        NaN        NaN        NaN        NaN   \n",
       "\n",
       "  Symptom_16 Symptom_17  \n",
       "0        NaN        NaN  \n",
       "1        NaN        NaN  \n",
       "2        NaN        NaN  \n",
       "3        NaN        NaN  \n",
       "4        NaN        NaN  "
      ]
     },
     "execution_count": 52,
     "metadata": {},
     "output_type": "execute_result"
    }
   ],
   "source": [
    "symptoms = df.loc[:, df.columns != 'Disease']\n",
    "symptoms[:5]"
   ]
  },
  {
   "cell_type": "markdown",
   "metadata": {},
   "source": [
    "count feature"
   ]
  },
  {
   "cell_type": "code",
   "execution_count": 53,
   "metadata": {},
   "outputs": [],
   "source": [
    "symptoms_numpy = symptoms.values.flatten()"
   ]
  },
  {
   "cell_type": "code",
   "execution_count": 54,
   "metadata": {},
   "outputs": [
    {
     "data": {
      "text/plain": [
       "({' abdominal_pain',\n",
       "  ' abnormal_menstruation',\n",
       "  ' acidity',\n",
       "  ' acute_liver_failure',\n",
       "  ' altered_sensorium',\n",
       "  ' anxiety',\n",
       "  ' back_pain',\n",
       "  ' belly_pain',\n",
       "  ' blackheads',\n",
       "  ' bladder_discomfort',\n",
       "  ' blister',\n",
       "  ' blood_in_sputum',\n",
       "  ' bloody_stool',\n",
       "  ' blurred_and_distorted_vision',\n",
       "  ' breathlessness',\n",
       "  ' brittle_nails',\n",
       "  ' bruising',\n",
       "  ' burning_micturition',\n",
       "  ' chest_pain',\n",
       "  ' chills',\n",
       "  ' cold_hands_and_feets',\n",
       "  ' coma',\n",
       "  ' congestion',\n",
       "  ' constipation',\n",
       "  ' continuous_feel_of_urine',\n",
       "  ' continuous_sneezing',\n",
       "  ' cough',\n",
       "  ' cramps',\n",
       "  ' dark_urine',\n",
       "  ' dehydration',\n",
       "  ' depression',\n",
       "  ' diarrhoea',\n",
       "  ' dischromic _patches',\n",
       "  ' distention_of_abdomen',\n",
       "  ' dizziness',\n",
       "  ' drying_and_tingling_lips',\n",
       "  ' enlarged_thyroid',\n",
       "  ' excessive_hunger',\n",
       "  ' extra_marital_contacts',\n",
       "  ' family_history',\n",
       "  ' fast_heart_rate',\n",
       "  ' fatigue',\n",
       "  ' fluid_overload',\n",
       "  ' foul_smell_of urine',\n",
       "  ' headache',\n",
       "  ' high_fever',\n",
       "  ' hip_joint_pain',\n",
       "  ' history_of_alcohol_consumption',\n",
       "  ' increased_appetite',\n",
       "  ' indigestion',\n",
       "  ' inflammatory_nails',\n",
       "  ' internal_itching',\n",
       "  ' irregular_sugar_level',\n",
       "  ' irritability',\n",
       "  ' irritation_in_anus',\n",
       "  ' joint_pain',\n",
       "  ' knee_pain',\n",
       "  ' lack_of_concentration',\n",
       "  ' lethargy',\n",
       "  ' loss_of_appetite',\n",
       "  ' loss_of_balance',\n",
       "  ' loss_of_smell',\n",
       "  ' malaise',\n",
       "  ' mild_fever',\n",
       "  ' mood_swings',\n",
       "  ' movement_stiffness',\n",
       "  ' mucoid_sputum',\n",
       "  ' muscle_pain',\n",
       "  ' muscle_wasting',\n",
       "  ' muscle_weakness',\n",
       "  ' nausea',\n",
       "  ' neck_pain',\n",
       "  ' nodal_skin_eruptions',\n",
       "  ' obesity',\n",
       "  ' pain_behind_the_eyes',\n",
       "  ' pain_during_bowel_movements',\n",
       "  ' pain_in_anal_region',\n",
       "  ' painful_walking',\n",
       "  ' palpitations',\n",
       "  ' passage_of_gases',\n",
       "  ' patches_in_throat',\n",
       "  ' phlegm',\n",
       "  ' polyuria',\n",
       "  ' prominent_veins_on_calf',\n",
       "  ' puffy_face_and_eyes',\n",
       "  ' pus_filled_pimples',\n",
       "  ' receiving_blood_transfusion',\n",
       "  ' receiving_unsterile_injections',\n",
       "  ' red_sore_around_nose',\n",
       "  ' red_spots_over_body',\n",
       "  ' redness_of_eyes',\n",
       "  ' restlessness',\n",
       "  ' runny_nose',\n",
       "  ' rusty_sputum',\n",
       "  ' scurring',\n",
       "  ' shivering',\n",
       "  ' silver_like_dusting',\n",
       "  ' sinus_pressure',\n",
       "  ' skin_peeling',\n",
       "  ' skin_rash',\n",
       "  ' slurred_speech',\n",
       "  ' small_dents_in_nails',\n",
       "  ' spinning_movements',\n",
       "  ' spotting_ urination',\n",
       "  ' stiff_neck',\n",
       "  ' stomach_bleeding',\n",
       "  ' stomach_pain',\n",
       "  ' sunken_eyes',\n",
       "  ' sweating',\n",
       "  ' swelled_lymph_nodes',\n",
       "  ' swelling_joints',\n",
       "  ' swelling_of_stomach',\n",
       "  ' swollen_blood_vessels',\n",
       "  ' swollen_extremeties',\n",
       "  ' swollen_legs',\n",
       "  ' throat_irritation',\n",
       "  ' toxic_look_(typhos)',\n",
       "  ' ulcers_on_tongue',\n",
       "  ' unsteadiness',\n",
       "  ' visual_disturbances',\n",
       "  ' vomiting',\n",
       "  ' watering_from_eyes',\n",
       "  ' weakness_in_limbs',\n",
       "  ' weakness_of_one_body_side',\n",
       "  ' weight_gain',\n",
       "  ' weight_loss',\n",
       "  ' yellow_crust_ooze',\n",
       "  ' yellow_urine',\n",
       "  ' yellowing_of_eyes',\n",
       "  ' yellowish_skin',\n",
       "  'itching'},\n",
       " 131)"
      ]
     },
     "execution_count": 54,
     "metadata": {},
     "output_type": "execute_result"
    }
   ],
   "source": [
    "features = set(symptoms_numpy)\n",
    "features.remove(np.nan)\n",
    "features,len(features)"
   ]
  },
  {
   "cell_type": "markdown",
   "metadata": {},
   "source": [
    "actually you can load from Symptom-serverity"
   ]
  },
  {
   "cell_type": "code",
   "execution_count": 55,
   "metadata": {},
   "outputs": [],
   "source": [
    "df_serverity = pd.read_csv(\"datasets/disease/Symptom-severity.csv\")"
   ]
  },
  {
   "cell_type": "code",
   "execution_count": 56,
   "metadata": {},
   "outputs": [
    {
     "data": {
      "text/html": [
       "<div>\n",
       "<style scoped>\n",
       "    .dataframe tbody tr th:only-of-type {\n",
       "        vertical-align: middle;\n",
       "    }\n",
       "\n",
       "    .dataframe tbody tr th {\n",
       "        vertical-align: top;\n",
       "    }\n",
       "\n",
       "    .dataframe thead th {\n",
       "        text-align: right;\n",
       "    }\n",
       "</style>\n",
       "<table border=\"1\" class=\"dataframe\">\n",
       "  <thead>\n",
       "    <tr style=\"text-align: right;\">\n",
       "      <th></th>\n",
       "      <th>Symptom</th>\n",
       "      <th>weight</th>\n",
       "    </tr>\n",
       "  </thead>\n",
       "  <tbody>\n",
       "    <tr>\n",
       "      <th>0</th>\n",
       "      <td>itching</td>\n",
       "      <td>1</td>\n",
       "    </tr>\n",
       "    <tr>\n",
       "      <th>1</th>\n",
       "      <td>skin_rash</td>\n",
       "      <td>3</td>\n",
       "    </tr>\n",
       "    <tr>\n",
       "      <th>2</th>\n",
       "      <td>nodal_skin_eruptions</td>\n",
       "      <td>4</td>\n",
       "    </tr>\n",
       "    <tr>\n",
       "      <th>3</th>\n",
       "      <td>continuous_sneezing</td>\n",
       "      <td>4</td>\n",
       "    </tr>\n",
       "    <tr>\n",
       "      <th>4</th>\n",
       "      <td>shivering</td>\n",
       "      <td>5</td>\n",
       "    </tr>\n",
       "  </tbody>\n",
       "</table>\n",
       "</div>"
      ],
      "text/plain": [
       "                Symptom  weight\n",
       "0               itching       1\n",
       "1             skin_rash       3\n",
       "2  nodal_skin_eruptions       4\n",
       "3   continuous_sneezing       4\n",
       "4             shivering       5"
      ]
     },
     "execution_count": 56,
     "metadata": {},
     "output_type": "execute_result"
    }
   ],
   "source": [
    "df_serverity.head()"
   ]
  },
  {
   "cell_type": "code",
   "execution_count": 57,
   "metadata": {},
   "outputs": [],
   "source": [
    "# see all the symptom\n",
    "features = list(df_serverity[\"Symptom\"].unique())\n",
    "# features = [feature.replace('_', ' ') for feature in features]\n"
   ]
  },
  {
   "cell_type": "code",
   "execution_count": 58,
   "metadata": {},
   "outputs": [
    {
     "data": {
      "text/plain": [
       "['itching',\n",
       " 'skin_rash',\n",
       " 'nodal_skin_eruptions',\n",
       " 'continuous_sneezing',\n",
       " 'shivering']"
      ]
     },
     "execution_count": 58,
     "metadata": {},
     "output_type": "execute_result"
    }
   ],
   "source": [
    "features[:5]"
   ]
  },
  {
   "cell_type": "code",
   "execution_count": 59,
   "metadata": {},
   "outputs": [
    {
     "data": {
      "text/plain": [
       "<bound method Series.info of 0                   itching\n",
       "1                 skin_rash\n",
       "2      nodal_skin_eruptions\n",
       "3       continuous_sneezing\n",
       "4                 shivering\n",
       "               ...         \n",
       "128      inflammatory_nails\n",
       "129                 blister\n",
       "130    red_sore_around_nose\n",
       "131       yellow_crust_ooze\n",
       "132               prognosis\n",
       "Name: Symptom, Length: 133, dtype: object>"
      ]
     },
     "execution_count": 59,
     "metadata": {},
     "output_type": "execute_result"
    }
   ],
   "source": [
    "df_serverity[\"Symptom\"].info\n",
    "# a bit weird because in datasets there are only 131"
   ]
  },
  {
   "cell_type": "code",
   "execution_count": 60,
   "metadata": {},
   "outputs": [
    {
     "ename": "NameError",
     "evalue": "name 'arr' is not defined",
     "output_type": "error",
     "traceback": [
      "\u001b[1;31m---------------------------------------------------------------------------\u001b[0m",
      "\u001b[1;31mNameError\u001b[0m                                 Traceback (most recent call last)",
      "\u001b[1;32mc:\\Users\\ASUS\\My_Journal\\ML\\ML-homework\\ml_project\\Disease_predictor.ipynb Cell 18\u001b[0m line \u001b[0;36m1\n\u001b[1;32m----> <a href='vscode-notebook-cell:/c%3A/Users/ASUS/My_Journal/ML/ML-homework/ml_project/Disease_predictor.ipynb#X23sZmlsZQ%3D%3D?line=0'>1</a>\u001b[0m arr\n",
      "\u001b[1;31mNameError\u001b[0m: name 'arr' is not defined"
     ]
    }
   ],
   "source": [
    "arr"
   ]
  },
  {
   "cell_type": "markdown",
   "metadata": {},
   "source": [
    "### <a id='toc1_1_1_'></a>[grouping test](#toc0_)"
   ]
  },
  {
   "cell_type": "markdown",
   "metadata": {},
   "source": [
    "group it together"
   ]
  },
  {
   "cell_type": "code",
   "execution_count": null,
   "metadata": {},
   "outputs": [],
   "source": [
    "\n",
    "import spacy\n",
    "nlp = spacy.load('en_core_web_sm')\n",
    "\n",
    "import re\n",
    "\n",
    "def remove_hyperlinks(sentence):\n",
    "    \n",
    "    #just in case there is hyperlink....\n",
    "    sentence = re.sub(\n",
    "        '(@[A-Za-z0-9]+)|([^0-9A-Za-z \\t])|(\\w+:\\/\\/\\S+)|^rt|http.+?\"',\n",
    "        \" \",\n",
    "        sentence\n",
    "    )\n",
    "    \n",
    "    return sentence\n",
    "\n",
    "def preprocessing(sentence):\n",
    "    \n",
    "    sentence = remove_hyperlinks(sentence)\n",
    "    \n",
    "    doc = nlp(sentence)\n",
    "    cleaned_tokens = []\n",
    "    for token in doc:\n",
    "        # print(token.text, token.lemma_, token.pos_, token.is_stop)\n",
    "        if token.is_stop == False and \\\n",
    "            token.pos_ != 'SYM' and \\\n",
    "            token.pos_ != 'PUNCT' and token.pos_ != 'SPACE':\n",
    "            cleaned_tokens.append(token.lemma_.lower().strip())\n",
    "            \n",
    "    #instead of returning tokens, we shall join them\n",
    "    return \" \".join(cleaned_tokens)\n",
    "\n",
    "def preprocessing_list(sentence):\n",
    "    \n",
    "    sentence = remove_hyperlinks(sentence)\n",
    "    \n",
    "    doc = nlp(sentence)\n",
    "    cleaned_tokens = []\n",
    "    for token in doc:\n",
    "        # print(token.text, token.lemma_, token.pos_, token.is_stop)\n",
    "        if token.is_stop == False and \\\n",
    "            token.pos_ != 'SYM' and \\\n",
    "            token.pos_ != 'PUNCT' and token.pos_ != 'SPACE':\n",
    "            cleaned_tokens.append(token.lemma_.lower().strip())\n",
    "\n",
    "    return cleaned_tokens"
   ]
  },
  {
   "cell_type": "code",
   "execution_count": null,
   "metadata": {},
   "outputs": [],
   "source": [
    "# see same words\n",
    "feature_copy = features.copy()\n",
    "groups = []\n",
    "while len(feature_copy):\n",
    "    feature1 = feature_copy[0]\n",
    "    feature_copy.remove(feature1)\n",
    "    groups.append([])\n",
    "    groups[-1].append(feature1)\n",
    "    feature1_token = preprocessing_list(feature1)\n",
    "    for feature2 in feature_copy:\n",
    "        feature2_token = preprocessing_list(feature2)\n",
    "        for ft in feature1_token:\n",
    "            if ft in feature2_token:\n",
    "                groups[-1].append(feature2)\n",
    "                feature_copy.remove(feature2)\n",
    "                break"
   ]
  },
  {
   "cell_type": "code",
   "execution_count": null,
   "metadata": {},
   "outputs": [
    {
     "data": {
      "text/plain": [
       "True"
      ]
     },
     "execution_count": 30,
     "metadata": {},
     "output_type": "execute_result"
    }
   ],
   "source": [
    "preprocessing_list('skin_rash')[0] in preprocessing_list(\"nodal_skin_eruptions\") "
   ]
  },
  {
   "cell_type": "code",
   "execution_count": null,
   "metadata": {},
   "outputs": [
    {
     "data": {
      "text/plain": [
       "[['itching'],\n",
       " ['skin_rash', 'nodal_skin_eruptions', 'yellowish_skin', 'skin_peeling'],\n",
       " ['continuous_sneezing', 'continuous_feel_of_urine'],\n",
       " ['shivering'],\n",
       " ['chills'],\n",
       " ['joint_pain',\n",
       "  'stomach_pain',\n",
       "  'pain_behind_the_eyes',\n",
       "  'abdominal_pain',\n",
       "  'chest_pain',\n",
       "  'pain_during_bowel_movements',\n",
       "  'neck_pain',\n",
       "  'knee_pain',\n",
       "  'swelling_joints',\n",
       "  'muscle_pain',\n",
       "  'belly_pain'],\n",
       " ['acidity'],\n",
       " ['ulcers_on_tongue'],\n",
       " ['muscle_wasting', 'muscle_weakness'],\n",
       " ['vomiting'],\n",
       " ['burning_micturition'],\n",
       " ['spotting_urination', 'red_spots_over_body'],\n",
       " ['fatigue'],\n",
       " ['weight_gain', 'weight_loss'],\n",
       " ['anxiety'],\n",
       " ['cold_hands_and_feets'],\n",
       " ['mood_swings'],\n",
       " ['restlessness'],\n",
       " ['lethargy'],\n",
       " ['patches_in_throat', 'throat_irritation', 'dischromic_patches'],\n",
       " ['irregular_sugar_level'],\n",
       " ['cough'],\n",
       " ['high_fever', 'mild_fever'],\n",
       " ['sunken_eyes',\n",
       "  'yellowing_of_eyes',\n",
       "  'redness_of_eyes',\n",
       "  'puffy_face_and_eyes',\n",
       "  'watering_from_eyes'],\n",
       " ['breathlessness'],\n",
       " ['sweating'],\n",
       " ['dehydration'],\n",
       " ['indigestion'],\n",
       " ['headache'],\n",
       " ['dark_urine', 'yellow_urine'],\n",
       " ['nausea'],\n",
       " ['loss_of_appetite',\n",
       "  'loss_of_balance',\n",
       "  'loss_of_smell',\n",
       "  'increased_appetite'],\n",
       " ['back_pain', 'pain_in_anal_region', 'hip_joint_pain'],\n",
       " ['constipation'],\n",
       " ['diarrhoea'],\n",
       " ['acute_liver_failure'],\n",
       " ['fluid_overload'],\n",
       " ['swelling_of_stomach', 'stomach_bleeding'],\n",
       " ['swelled_lymph_nodes'],\n",
       " ['malaise'],\n",
       " ['blurred_and_distorted_vision'],\n",
       " ['phlegm'],\n",
       " ['sinus_pressure'],\n",
       " ['runny_nose', 'red_sore_around_nose'],\n",
       " ['congestion'],\n",
       " ['weakness_in_limbs', 'weakness_of_one_body_side'],\n",
       " ['fast_heart_rate'],\n",
       " ['bloody_stool'],\n",
       " ['irritation_in_anus'],\n",
       " ['dizziness'],\n",
       " ['cramps'],\n",
       " ['bruising'],\n",
       " ['obesity'],\n",
       " ['swollen_legs', 'swollen_blood_vessels', 'swollen_extremeties'],\n",
       " ['enlarged_thyroid'],\n",
       " ['brittle_nails', 'small_dents_in_nails'],\n",
       " ['excessive_hunger'],\n",
       " ['extra_marital_contacts'],\n",
       " ['drying_and_tingling_lips'],\n",
       " ['slurred_speech'],\n",
       " ['stiff_neck'],\n",
       " ['movement_stiffness', 'spinning_movements'],\n",
       " ['unsteadiness'],\n",
       " ['bladder_discomfort'],\n",
       " ['foul_smell_ofurine'],\n",
       " ['passage_of_gases'],\n",
       " ['internal_itching'],\n",
       " ['toxic_look_(typhos)'],\n",
       " ['depression'],\n",
       " ['irritability'],\n",
       " ['altered_sensorium'],\n",
       " ['abnormal_menstruation'],\n",
       " ['polyuria'],\n",
       " ['family_history', 'history_of_alcohol_consumption'],\n",
       " ['mucoid_sputum', 'rusty_sputum', 'blood_in_sputum'],\n",
       " ['lack_of_concentration'],\n",
       " ['visual_disturbances'],\n",
       " ['receiving_blood_transfusion', 'receiving_unsterile_injections'],\n",
       " ['coma'],\n",
       " ['distention_of_abdomen'],\n",
       " ['prominent_veins_on_calf'],\n",
       " ['palpitations'],\n",
       " ['painful_walking'],\n",
       " ['pus_filled_pimples'],\n",
       " ['blackheads'],\n",
       " ['scurring'],\n",
       " ['silver_like_dusting'],\n",
       " ['inflammatory_nails'],\n",
       " ['blister'],\n",
       " ['yellow_crust_ooze'],\n",
       " ['prognosis']]"
      ]
     },
     "execution_count": 37,
     "metadata": {},
     "output_type": "execute_result"
    }
   ],
   "source": [
    "groups"
   ]
  },
  {
   "cell_type": "markdown",
   "metadata": {},
   "source": [
    "try sentence similarity"
   ]
  },
  {
   "cell_type": "code",
   "execution_count": null,
   "metadata": {},
   "outputs": [
    {
     "data": {
      "text/plain": [
       "'loss smell'"
      ]
     },
     "execution_count": 36,
     "metadata": {},
     "output_type": "execute_result"
    }
   ],
   "source": [
    "preprocessing(\"loss_of_smell\")"
   ]
  },
  {
   "cell_type": "code",
   "execution_count": null,
   "metadata": {},
   "outputs": [
    {
     "name": "stderr",
     "output_type": "stream",
     "text": [
      "C:\\Users\\ASUS\\AppData\\Local\\Temp\\ipykernel_31304\\276967784.py:9: UserWarning: [W008] Evaluating Doc.similarity based on empty vectors.\n",
      "  similarity = nlp(preprocessing(feature1)).similarity(nlp(preprocessing(feature2)))\n"
     ]
    }
   ],
   "source": [
    "feature_copy = features.copy()\n",
    "groups = []\n",
    "while len(feature_copy):\n",
    "    feature1 = feature_copy[0]\n",
    "    feature_copy.remove(feature1)\n",
    "    groups.append([])\n",
    "    groups[-1].append(feature1)\n",
    "    for feature2 in feature_copy[1:]:\n",
    "        similarity = nlp(preprocessing(feature1)).similarity(nlp(preprocessing(feature2)))\n",
    "        if similarity > 0.5:\n",
    "            groups[-1].append(feature2)\n",
    "            feature_copy.remove(feature2)\n"
   ]
  },
  {
   "cell_type": "code",
   "execution_count": null,
   "metadata": {},
   "outputs": [
    {
     "data": {
      "text/plain": [
       "[['itching',\n",
       "  'ulcers_on_tongue',\n",
       "  'lethargy',\n",
       "  'cough',\n",
       "  'headache',\n",
       "  'nausea',\n",
       "  'diarrhoea',\n",
       "  'mild_fever',\n",
       "  'phlegm',\n",
       "  'dizziness',\n",
       "  'cramps',\n",
       "  'bruising',\n",
       "  'swollen_extremeties',\n",
       "  'stomach_bleeding'],\n",
       " ['skin_rash',\n",
       "  'stomach_pain',\n",
       "  'patches_in_throat',\n",
       "  'yellowish_skin',\n",
       "  'dark_urine',\n",
       "  'pain_behind_the_eyes',\n",
       "  'abdominal_pain',\n",
       "  'yellow_urine',\n",
       "  'yellowing_of_eyes',\n",
       "  'swelling_of_stomach',\n",
       "  'throat_irritation',\n",
       "  'redness_of_eyes',\n",
       "  'runny_nose',\n",
       "  'chest_pain',\n",
       "  'irritation_in_anus',\n",
       "  'neck_pain',\n",
       "  'swollen_blood_vessels',\n",
       "  'puffy_face_and_eyes',\n",
       "  'drying_and_tingling_lips',\n",
       "  'weakness_of_one_body_side',\n",
       "  'bladder_discomfort',\n",
       "  'muscle_pain',\n",
       "  'red_spots_over_body',\n",
       "  'belly_pain',\n",
       "  'mucoid_sputum',\n",
       "  'rusty_sputum',\n",
       "  'pus_filled_pimples',\n",
       "  'skin_peeling',\n",
       "  'inflammatory_nails',\n",
       "  'red_sore_around_nose',\n",
       "  'yellow_crust_ooze'],\n",
       " ['nodal_skin_eruptions',\n",
       "  'muscle_wasting',\n",
       "  'spotting_urination',\n",
       "  'irregular_sugar_level',\n",
       "  'dehydration',\n",
       "  'indigestion',\n",
       "  'constipation',\n",
       "  'acute_liver_failure',\n",
       "  'fluid_overload',\n",
       "  'swelled_lymph_nodes',\n",
       "  'sinus_pressure',\n",
       "  'weakness_in_limbs',\n",
       "  'pain_during_bowel_movements',\n",
       "  'pain_in_anal_region',\n",
       "  'enlarged_thyroid',\n",
       "  'muscle_weakness',\n",
       "  'movement_stiffness',\n",
       "  'continuous_feel_of_urine',\n",
       "  'internal_itching',\n",
       "  'irritability',\n",
       "  'abnormal_menstruation',\n",
       "  'dischromic_patches',\n",
       "  'watering_from_eyes',\n",
       "  'receiving_blood_transfusion',\n",
       "  'distention_of_abdomen',\n",
       "  'palpitations'],\n",
       " ['continuous_sneezing',\n",
       "  'joint_pain',\n",
       "  'burning_micturition',\n",
       "  'restlessness',\n",
       "  'high_fever',\n",
       "  'breathlessness',\n",
       "  'blurred_and_distorted_vision',\n",
       "  'congestion',\n",
       "  'excessive_hunger',\n",
       "  'extra_marital_contacts',\n",
       "  'unsteadiness',\n",
       "  'depression',\n",
       "  'increased_appetite',\n",
       "  'lack_of_concentration',\n",
       "  'visual_disturbances',\n",
       "  'receiving_unsterile_injections',\n",
       "  'history_of_alcohol_consumption',\n",
       "  'painful_walking'],\n",
       " ['shivering'],\n",
       " ['chills'],\n",
       " ['acidity'],\n",
       " ['vomiting'],\n",
       " ['fatigue',\n",
       "  'anxiety',\n",
       "  'weight_loss',\n",
       "  'loss_of_appetite',\n",
       "  'back_pain',\n",
       "  'obesity',\n",
       "  'knee_pain',\n",
       "  'hip_joint_pain'],\n",
       " ['weight_gain', 'loss_of_balance'],\n",
       " ['cold_hands_and_feets', 'bloody_stool', 'stiff_neck'],\n",
       " ['mood_swings'],\n",
       " ['sunken_eyes'],\n",
       " ['sweating'],\n",
       " ['malaise'],\n",
       " ['fast_heart_rate'],\n",
       " ['swollen_legs'],\n",
       " ['brittle_nails', 'small_dents_in_nails'],\n",
       " ['slurred_speech'],\n",
       " ['swelling_joints'],\n",
       " ['spinning_movements'],\n",
       " ['loss_of_smell'],\n",
       " ['foul_smell_ofurine'],\n",
       " ['passage_of_gases'],\n",
       " ['toxic_look_(typhos)', 'silver_like_dusting'],\n",
       " ['altered_sensorium'],\n",
       " ['polyuria'],\n",
       " ['family_history'],\n",
       " ['coma'],\n",
       " ['blood_in_sputum'],\n",
       " ['prominent_veins_on_calf'],\n",
       " ['blackheads'],\n",
       " ['scurring'],\n",
       " ['blister'],\n",
       " ['prognosis']]"
      ]
     },
     "execution_count": 43,
     "metadata": {},
     "output_type": "execute_result"
    }
   ],
   "source": [
    "groups"
   ]
  },
  {
   "cell_type": "code",
   "execution_count": null,
   "metadata": {},
   "outputs": [],
   "source": [
    "similarity = nlp('fever').similarity(nlp(\"fever\"))"
   ]
  },
  {
   "cell_type": "code",
   "execution_count": null,
   "metadata": {},
   "outputs": [
    {
     "data": {
      "text/plain": [
       "1.0"
      ]
     },
     "execution_count": 52,
     "metadata": {},
     "output_type": "execute_result"
    }
   ],
   "source": [
    "similarity"
   ]
  },
  {
   "cell_type": "markdown",
   "metadata": {},
   "source": [
    "### <a id='toc1_1_2_'></a>[prepare data](#toc0_)"
   ]
  },
  {
   "cell_type": "code",
   "execution_count": 61,
   "metadata": {},
   "outputs": [],
   "source": [
    "df_preprocess = pd.DataFrame()\n",
    "df_preprocess['Disease'] = df[\"Disease\"]"
   ]
  },
  {
   "cell_type": "code",
   "execution_count": 62,
   "metadata": {},
   "outputs": [
    {
     "data": {
      "text/plain": [
       "0       itching skin_rash nodal_skin_eruptions dischro...\n",
       "1       skin_rash nodal_skin_eruptions dischromic_patches\n",
       "2         itching nodal_skin_eruptions dischromic_patches\n",
       "3                    itching skin_rash dischromic_patches\n",
       "4                  itching skin_rash nodal_skin_eruptions\n",
       "                              ...                        \n",
       "4915    vomiting headache nausea spinning_movements lo...\n",
       "4916     skin_rash pus_filled_pimples blackheads scurring\n",
       "4917    burning_micturition bladder_discomfort foul_sm...\n",
       "4918    skin_rash joint_pain skin_peeling silver_like_...\n",
       "4919    skin_rash high_fever blister red_sore_around_n...\n",
       "Name: symptoms_text, Length: 4920, dtype: object"
      ]
     },
     "execution_count": 62,
     "metadata": {},
     "output_type": "execute_result"
    }
   ],
   "source": [
    "df_preprocess['symptoms_text'] = df.drop('Disease', axis=1).apply(lambda x: ' '.join(x.dropna().str.replace(' ','')), axis=1)\n",
    "df_preprocess['symptoms_text']"
   ]
  },
  {
   "cell_type": "code",
   "execution_count": 63,
   "metadata": {},
   "outputs": [
    {
     "data": {
      "text/html": [
       "<div>\n",
       "<style scoped>\n",
       "    .dataframe tbody tr th:only-of-type {\n",
       "        vertical-align: middle;\n",
       "    }\n",
       "\n",
       "    .dataframe tbody tr th {\n",
       "        vertical-align: top;\n",
       "    }\n",
       "\n",
       "    .dataframe thead th {\n",
       "        text-align: right;\n",
       "    }\n",
       "</style>\n",
       "<table border=\"1\" class=\"dataframe\">\n",
       "  <thead>\n",
       "    <tr style=\"text-align: right;\">\n",
       "      <th></th>\n",
       "      <th>Disease</th>\n",
       "      <th>abdominal_pain</th>\n",
       "      <th>abnormal_menstruation</th>\n",
       "      <th>acidity</th>\n",
       "      <th>acute_liver_failure</th>\n",
       "      <th>altered_sensorium</th>\n",
       "      <th>anxiety</th>\n",
       "      <th>back_pain</th>\n",
       "      <th>belly_pain</th>\n",
       "      <th>blackheads</th>\n",
       "      <th>...</th>\n",
       "      <th>vomiting</th>\n",
       "      <th>watering_from_eyes</th>\n",
       "      <th>weakness_in_limbs</th>\n",
       "      <th>weakness_of_one_body_side</th>\n",
       "      <th>weight_gain</th>\n",
       "      <th>weight_loss</th>\n",
       "      <th>yellow_crust_ooze</th>\n",
       "      <th>yellow_urine</th>\n",
       "      <th>yellowing_of_eyes</th>\n",
       "      <th>yellowish_skin</th>\n",
       "    </tr>\n",
       "  </thead>\n",
       "  <tbody>\n",
       "    <tr>\n",
       "      <th>0</th>\n",
       "      <td>Fungal infection</td>\n",
       "      <td>0</td>\n",
       "      <td>0</td>\n",
       "      <td>0</td>\n",
       "      <td>0</td>\n",
       "      <td>0</td>\n",
       "      <td>0</td>\n",
       "      <td>0</td>\n",
       "      <td>0</td>\n",
       "      <td>0</td>\n",
       "      <td>...</td>\n",
       "      <td>0</td>\n",
       "      <td>0</td>\n",
       "      <td>0</td>\n",
       "      <td>0</td>\n",
       "      <td>0</td>\n",
       "      <td>0</td>\n",
       "      <td>0</td>\n",
       "      <td>0</td>\n",
       "      <td>0</td>\n",
       "      <td>0</td>\n",
       "    </tr>\n",
       "    <tr>\n",
       "      <th>1</th>\n",
       "      <td>Fungal infection</td>\n",
       "      <td>0</td>\n",
       "      <td>0</td>\n",
       "      <td>0</td>\n",
       "      <td>0</td>\n",
       "      <td>0</td>\n",
       "      <td>0</td>\n",
       "      <td>0</td>\n",
       "      <td>0</td>\n",
       "      <td>0</td>\n",
       "      <td>...</td>\n",
       "      <td>0</td>\n",
       "      <td>0</td>\n",
       "      <td>0</td>\n",
       "      <td>0</td>\n",
       "      <td>0</td>\n",
       "      <td>0</td>\n",
       "      <td>0</td>\n",
       "      <td>0</td>\n",
       "      <td>0</td>\n",
       "      <td>0</td>\n",
       "    </tr>\n",
       "    <tr>\n",
       "      <th>2</th>\n",
       "      <td>Fungal infection</td>\n",
       "      <td>0</td>\n",
       "      <td>0</td>\n",
       "      <td>0</td>\n",
       "      <td>0</td>\n",
       "      <td>0</td>\n",
       "      <td>0</td>\n",
       "      <td>0</td>\n",
       "      <td>0</td>\n",
       "      <td>0</td>\n",
       "      <td>...</td>\n",
       "      <td>0</td>\n",
       "      <td>0</td>\n",
       "      <td>0</td>\n",
       "      <td>0</td>\n",
       "      <td>0</td>\n",
       "      <td>0</td>\n",
       "      <td>0</td>\n",
       "      <td>0</td>\n",
       "      <td>0</td>\n",
       "      <td>0</td>\n",
       "    </tr>\n",
       "    <tr>\n",
       "      <th>3</th>\n",
       "      <td>Fungal infection</td>\n",
       "      <td>0</td>\n",
       "      <td>0</td>\n",
       "      <td>0</td>\n",
       "      <td>0</td>\n",
       "      <td>0</td>\n",
       "      <td>0</td>\n",
       "      <td>0</td>\n",
       "      <td>0</td>\n",
       "      <td>0</td>\n",
       "      <td>...</td>\n",
       "      <td>0</td>\n",
       "      <td>0</td>\n",
       "      <td>0</td>\n",
       "      <td>0</td>\n",
       "      <td>0</td>\n",
       "      <td>0</td>\n",
       "      <td>0</td>\n",
       "      <td>0</td>\n",
       "      <td>0</td>\n",
       "      <td>0</td>\n",
       "    </tr>\n",
       "    <tr>\n",
       "      <th>4</th>\n",
       "      <td>Fungal infection</td>\n",
       "      <td>0</td>\n",
       "      <td>0</td>\n",
       "      <td>0</td>\n",
       "      <td>0</td>\n",
       "      <td>0</td>\n",
       "      <td>0</td>\n",
       "      <td>0</td>\n",
       "      <td>0</td>\n",
       "      <td>0</td>\n",
       "      <td>...</td>\n",
       "      <td>0</td>\n",
       "      <td>0</td>\n",
       "      <td>0</td>\n",
       "      <td>0</td>\n",
       "      <td>0</td>\n",
       "      <td>0</td>\n",
       "      <td>0</td>\n",
       "      <td>0</td>\n",
       "      <td>0</td>\n",
       "      <td>0</td>\n",
       "    </tr>\n",
       "  </tbody>\n",
       "</table>\n",
       "<p>5 rows × 132 columns</p>\n",
       "</div>"
      ],
      "text/plain": [
       "            Disease  abdominal_pain  abnormal_menstruation  acidity  \\\n",
       "0  Fungal infection               0                      0        0   \n",
       "1  Fungal infection               0                      0        0   \n",
       "2  Fungal infection               0                      0        0   \n",
       "3  Fungal infection               0                      0        0   \n",
       "4  Fungal infection               0                      0        0   \n",
       "\n",
       "   acute_liver_failure  altered_sensorium  anxiety  back_pain  belly_pain  \\\n",
       "0                    0                  0        0          0           0   \n",
       "1                    0                  0        0          0           0   \n",
       "2                    0                  0        0          0           0   \n",
       "3                    0                  0        0          0           0   \n",
       "4                    0                  0        0          0           0   \n",
       "\n",
       "   blackheads  ...  vomiting  watering_from_eyes  weakness_in_limbs  \\\n",
       "0           0  ...         0                   0                  0   \n",
       "1           0  ...         0                   0                  0   \n",
       "2           0  ...         0                   0                  0   \n",
       "3           0  ...         0                   0                  0   \n",
       "4           0  ...         0                   0                  0   \n",
       "\n",
       "   weakness_of_one_body_side  weight_gain  weight_loss  yellow_crust_ooze  \\\n",
       "0                          0            0            0                  0   \n",
       "1                          0            0            0                  0   \n",
       "2                          0            0            0                  0   \n",
       "3                          0            0            0                  0   \n",
       "4                          0            0            0                  0   \n",
       "\n",
       "   yellow_urine  yellowing_of_eyes  yellowish_skin  \n",
       "0             0                  0               0  \n",
       "1             0                  0               0  \n",
       "2             0                  0               0  \n",
       "3             0                  0               0  \n",
       "4             0                  0               0  \n",
       "\n",
       "[5 rows x 132 columns]"
      ]
     },
     "execution_count": 63,
     "metadata": {},
     "output_type": "execute_result"
    }
   ],
   "source": [
    "# onehot\n",
    "df_onehot = pd.concat([df[\"Disease\"],df_preprocess['symptoms_text'].str.get_dummies(sep=' ')],axis=1)\n",
    "df_onehot.head()"
   ]
  },
  {
   "cell_type": "code",
   "execution_count": 88,
   "metadata": {},
   "outputs": [],
   "source": [
    "df_onehot.to_csv('datasets/disease/dataset_onehot.csv', index=False)"
   ]
  },
  {
   "cell_type": "code",
   "execution_count": 64,
   "metadata": {},
   "outputs": [
    {
     "data": {
      "text/html": [
       "<div>\n",
       "<style scoped>\n",
       "    .dataframe tbody tr th:only-of-type {\n",
       "        vertical-align: middle;\n",
       "    }\n",
       "\n",
       "    .dataframe tbody tr th {\n",
       "        vertical-align: top;\n",
       "    }\n",
       "\n",
       "    .dataframe thead th {\n",
       "        text-align: right;\n",
       "    }\n",
       "</style>\n",
       "<table border=\"1\" class=\"dataframe\">\n",
       "  <thead>\n",
       "    <tr style=\"text-align: right;\">\n",
       "      <th></th>\n",
       "      <th>Disease</th>\n",
       "      <th>symptoms_text</th>\n",
       "      <th>symptoms_count</th>\n",
       "    </tr>\n",
       "  </thead>\n",
       "  <tbody>\n",
       "    <tr>\n",
       "      <th>0</th>\n",
       "      <td>Fungal infection</td>\n",
       "      <td>itching skin_rash nodal_skin_eruptions dischro...</td>\n",
       "      <td>4</td>\n",
       "    </tr>\n",
       "    <tr>\n",
       "      <th>1</th>\n",
       "      <td>Fungal infection</td>\n",
       "      <td>skin_rash nodal_skin_eruptions dischromic_patches</td>\n",
       "      <td>3</td>\n",
       "    </tr>\n",
       "    <tr>\n",
       "      <th>2</th>\n",
       "      <td>Fungal infection</td>\n",
       "      <td>itching nodal_skin_eruptions dischromic_patches</td>\n",
       "      <td>3</td>\n",
       "    </tr>\n",
       "    <tr>\n",
       "      <th>3</th>\n",
       "      <td>Fungal infection</td>\n",
       "      <td>itching skin_rash dischromic_patches</td>\n",
       "      <td>3</td>\n",
       "    </tr>\n",
       "    <tr>\n",
       "      <th>4</th>\n",
       "      <td>Fungal infection</td>\n",
       "      <td>itching skin_rash nodal_skin_eruptions</td>\n",
       "      <td>3</td>\n",
       "    </tr>\n",
       "  </tbody>\n",
       "</table>\n",
       "</div>"
      ],
      "text/plain": [
       "            Disease                                      symptoms_text  \\\n",
       "0  Fungal infection  itching skin_rash nodal_skin_eruptions dischro...   \n",
       "1  Fungal infection  skin_rash nodal_skin_eruptions dischromic_patches   \n",
       "2  Fungal infection    itching nodal_skin_eruptions dischromic_patches   \n",
       "3  Fungal infection               itching skin_rash dischromic_patches   \n",
       "4  Fungal infection             itching skin_rash nodal_skin_eruptions   \n",
       "\n",
       "   symptoms_count  \n",
       "0               4  \n",
       "1               3  \n",
       "2               3  \n",
       "3               3  \n",
       "4               3  "
      ]
     },
     "execution_count": 64,
     "metadata": {},
     "output_type": "execute_result"
    }
   ],
   "source": [
    "# text\n",
    "df_preprocess['symptoms_count'] = df_preprocess['symptoms_text'].apply(lambda x: len(x.split()))\n",
    "df_preprocess.head()"
   ]
  },
  {
   "cell_type": "code",
   "execution_count": 89,
   "metadata": {},
   "outputs": [],
   "source": [
    "df_preprocess.to_csv('datasets/disease/dataset_text.csv', index=False)"
   ]
  },
  {
   "cell_type": "code",
   "execution_count": 65,
   "metadata": {},
   "outputs": [
    {
     "data": {
      "text/html": [
       "<div>\n",
       "<style scoped>\n",
       "    .dataframe tbody tr th:only-of-type {\n",
       "        vertical-align: middle;\n",
       "    }\n",
       "\n",
       "    .dataframe tbody tr th {\n",
       "        vertical-align: top;\n",
       "    }\n",
       "\n",
       "    .dataframe thead th {\n",
       "        text-align: right;\n",
       "    }\n",
       "</style>\n",
       "<table border=\"1\" class=\"dataframe\">\n",
       "  <thead>\n",
       "    <tr style=\"text-align: right;\">\n",
       "      <th></th>\n",
       "      <th>symptoms_count</th>\n",
       "    </tr>\n",
       "  </thead>\n",
       "  <tbody>\n",
       "    <tr>\n",
       "      <th>count</th>\n",
       "      <td>4920.000000</td>\n",
       "    </tr>\n",
       "    <tr>\n",
       "      <th>mean</th>\n",
       "      <td>7.448780</td>\n",
       "    </tr>\n",
       "    <tr>\n",
       "      <th>std</th>\n",
       "      <td>3.592166</td>\n",
       "    </tr>\n",
       "    <tr>\n",
       "      <th>min</th>\n",
       "      <td>3.000000</td>\n",
       "    </tr>\n",
       "    <tr>\n",
       "      <th>25%</th>\n",
       "      <td>5.000000</td>\n",
       "    </tr>\n",
       "    <tr>\n",
       "      <th>50%</th>\n",
       "      <td>6.000000</td>\n",
       "    </tr>\n",
       "    <tr>\n",
       "      <th>75%</th>\n",
       "      <td>10.000000</td>\n",
       "    </tr>\n",
       "    <tr>\n",
       "      <th>max</th>\n",
       "      <td>17.000000</td>\n",
       "    </tr>\n",
       "  </tbody>\n",
       "</table>\n",
       "</div>"
      ],
      "text/plain": [
       "       symptoms_count\n",
       "count     4920.000000\n",
       "mean         7.448780\n",
       "std          3.592166\n",
       "min          3.000000\n",
       "25%          5.000000\n",
       "50%          6.000000\n",
       "75%         10.000000\n",
       "max         17.000000"
      ]
     },
     "execution_count": 65,
     "metadata": {},
     "output_type": "execute_result"
    }
   ],
   "source": [
    "df_preprocess.describe()"
   ]
  },
  {
   "cell_type": "code",
   "execution_count": 66,
   "metadata": {},
   "outputs": [
    {
     "ename": "NameError",
     "evalue": "name 'arr' is not defined",
     "output_type": "error",
     "traceback": [
      "\u001b[1;31m---------------------------------------------------------------------------\u001b[0m",
      "\u001b[1;31mNameError\u001b[0m                                 Traceback (most recent call last)",
      "\u001b[1;32mc:\\Users\\ASUS\\My_Journal\\ML\\ML-homework\\ml_project\\Disease_predictor.ipynb Cell 37\u001b[0m line \u001b[0;36m1\n\u001b[1;32m----> <a href='vscode-notebook-cell:/c%3A/Users/ASUS/My_Journal/ML/ML-homework/ml_project/Disease_predictor.ipynb#X51sZmlsZQ%3D%3D?line=0'>1</a>\u001b[0m arr\n",
      "\u001b[1;31mNameError\u001b[0m: name 'arr' is not defined"
     ]
    }
   ],
   "source": [
    "arr"
   ]
  },
  {
   "cell_type": "markdown",
   "metadata": {},
   "source": [
    "# <a id='toc2_'></a>[EDA](#toc0_)"
   ]
  },
  {
   "cell_type": "markdown",
   "metadata": {},
   "source": [
    "note: for classification problem you should always use hua = 'y' which 'y' is label name"
   ]
  },
  {
   "cell_type": "code",
   "execution_count": 67,
   "metadata": {},
   "outputs": [],
   "source": [
    "import seaborn as sns"
   ]
  },
  {
   "cell_type": "code",
   "execution_count": 68,
   "metadata": {},
   "outputs": [
    {
     "data": {
      "image/png": "[encoded data removed]",
      "text/plain": [
       "<Figure size 640x480 with 1 Axes>"
      ]
     },
     "metadata": {},
     "output_type": "display_data"
    }
   ],
   "source": [
    "disease_count = sns.countplot(data=df, x=\"Disease\") # see the number of each class\n",
    "plt.xticks(rotation=90)  # This rotates the x-labels by 90 degrees\n",
    "plt.show()"
   ]
  },
  {
   "cell_type": "markdown",
   "metadata": {},
   "source": [
    "* data balanced"
   ]
  },
  {
   "cell_type": "code",
   "execution_count": 69,
   "metadata": {},
   "outputs": [
    {
     "data": {
      "image/png": "[encoded data removed]",
      "text/plain": [
       "<Figure size 640x480 with 1 Axes>"
      ]
     },
     "metadata": {},
     "output_type": "display_data"
    }
   ],
   "source": [
    "# how many symptoms for each class\n",
    "\n",
    "sns.barplot(data = df_preprocess ,x = 'Disease', y = \"symptoms_count\", hue=\"Disease\")\n",
    "# plt.title(\"Label Distribution\")\n",
    "plt.xticks(rotation=90)  # Rotate x-labels for readability\n",
    "plt.show()"
   ]
  },
  {
   "cell_type": "code",
   "execution_count": 87,
   "metadata": {},
   "outputs": [
    {
     "data": {
      "image/png": "[encoded data removed]",
      "text/plain": [
       "<Figure size 1800x800 with 1 Axes>"
      ]
     },
     "metadata": {},
     "output_type": "display_data"
    }
   ],
   "source": [
    "# Assuming your data is in a DataFrame named 'data' and the symptoms are columns except 'Disease'\n",
    "symptoms_data = df_onehot.drop('Disease', axis=1)\n",
    "\n",
    "# Calculate the total count of each symptom\n",
    "symptom_counts = symptoms_data.sum().sort_values(ascending=False)\n",
    "\n",
    "# Create a bar plot\n",
    "plt.figure(figsize=(18, 8))\n",
    "sns.barplot(x=symptom_counts.index, y=symptom_counts.values)\n",
    "plt.xticks(rotation=90)\n",
    "plt.title('Symptom Counts', fontsize=14)\n",
    "plt.show()\n",
    "\n",
    "\n"
   ]
  },
  {
   "cell_type": "code",
   "execution_count": null,
   "metadata": {},
   "outputs": [],
   "source": [
    "sns.scatterplot(data=df, x=\"continuous_data\", y=\"continuous_data\",hue='y') # see the relation between feature"
   ]
  },
  {
   "cell_type": "code",
   "execution_count": null,
   "metadata": {},
   "outputs": [],
   "source": [
    "sns.histplot(data=df, x=\"continuous_data\") # see the distribution "
   ]
  },
  {
   "cell_type": "code",
   "execution_count": null,
   "metadata": {},
   "outputs": [],
   "source": [
    "sns.boxplot(data=df, x=\"catagory_data or y\", y=\"continuous_data\") # see the distibution over catagory data"
   ]
  },
  {
   "cell_type": "code",
   "execution_count": null,
   "metadata": {},
   "outputs": [],
   "source": [
    "sns.barplot(data = df ,x = 'y', y = \"continuous_data\", hue=\"y\") # "
   ]
  },
  {
   "cell_type": "markdown",
   "metadata": {},
   "source": [
    "easy for any task"
   ]
  },
  {
   "cell_type": "code",
   "execution_count": null,
   "metadata": {},
   "outputs": [],
   "source": [
    "# sns.pairplot(df, hue = 'Disease') # see the distribution and scaterplot and also can do "
   ]
  },
  {
   "cell_type": "code",
   "execution_count": null,
   "metadata": {},
   "outputs": [],
   "source": [
    "# sns.heatmap(df.corr(), annot=True) # see the correation"
   ]
  },
  {
   "cell_type": "code",
   "execution_count": null,
   "metadata": {},
   "outputs": [],
   "source": [
    "# import ppscore as pps\n",
    "\n",
    "# # before using pps, let's drop country and year\n",
    "# dfcopy = df.copy()\n",
    "# dfcopy.drop(['catagory_data1','catagory_data2'], axis='columns', inplace=True)\n",
    "\n",
    "# #this needs some minor preprocessing because seaborn.heatmap unfortunately does not accept tidy data\n",
    "# matrix_df = pps.matrix(dfcopy)[['x', 'y', 'ppscore']].pivot(columns='x', index='y', values='ppscore')\n",
    "\n",
    "# #plot\n",
    "# plt.figure(figsize = (15,8))\n",
    "# sns.heatmap(matrix_df, vmin=0, vmax=1, cmap=\"Blues\", linewidths=0.5, annot=True)"
   ]
  },
  {
   "cell_type": "markdown",
   "metadata": {},
   "source": [
    "have you ever try this?"
   ]
  },
  {
   "cell_type": "code",
   "execution_count": null,
   "metadata": {},
   "outputs": [],
   "source": [
    "import sweetviz\n",
    "# report = sweetviz.analyze([df,'train'],target_feat='Disease')\n",
    "report = sweetviz.analyze(df_onehot,target_feat='Disease')\n",
    "report.show_html('report.html')"
   ]
  },
  {
   "cell_type": "code",
   "execution_count": null,
   "metadata": {},
   "outputs": [
    {
     "name": "stdout",
     "output_type": "stream",
     "text": [
      "Report report.html was generated! NOTEBOOK/COLAB USERS: the web browser MAY not pop up, regardless, the report IS saved in your notebook/colab files.\n"
     ]
    }
   ],
   "source": [
    "report.show_html('report.html')"
   ]
  },
  {
   "cell_type": "markdown",
   "metadata": {},
   "source": [
    "# <a id='toc3_'></a>[data engineering](#toc0_)"
   ]
  },
  {
   "cell_type": "code",
   "execution_count": null,
   "metadata": {},
   "outputs": [],
   "source": [
    "# change the meaning of data from what you get from eda ex cartesian to polar, take log, different value, grouping .."
   ]
  },
  {
   "cell_type": "code",
   "execution_count": null,
   "metadata": {},
   "outputs": [],
   "source": [
    "# plot again to see new feature"
   ]
  },
  {
   "cell_type": "markdown",
   "metadata": {},
   "source": [
    "# <a id='toc4_'></a>[split data](#toc0_)"
   ]
  },
  {
   "cell_type": "code",
   "execution_count": null,
   "metadata": {},
   "outputs": [],
   "source": [
    "# for naive bayes\n",
    "from sklearn.model_selection import train_test_split\n",
    "from sklearn.feature_extraction.text import CountVectorizer\n",
    "\n",
    "vectorizer = CountVectorizer()\n",
    "X = vectorizer.fit_transform(df_preprocess['symptoms_text'])\n",
    "y = df['Disease']\n",
    "X_train, X_test, y_train, y_test = train_test_split(X, y, test_size=0.2, random_state=42, stratify=y)\n",
    "\n"
   ]
  },
  {
   "cell_type": "code",
   "execution_count": null,
   "metadata": {},
   "outputs": [],
   "source": [
    "# for xg boost\n",
    "\n",
    "from sklearn.preprocessing import LabelEncoder, OneHotEncoder\n",
    "\n",
    "X = df_onehot.drop('Disease',axis=1)\n",
    "y = df['Disease']\n",
    "label_encoder = LabelEncoder()\n",
    "y = label_encoder.fit_transform(y)\n",
    "X_train, X_test, y_train, y_test = train_test_split(X, y, test_size=0.2, random_state=42, stratify=y)"
   ]
  },
  {
   "cell_type": "markdown",
   "metadata": {},
   "source": [
    "# <a id='toc5_'></a>[preprocess](#toc0_)"
   ]
  },
  {
   "cell_type": "markdown",
   "metadata": {},
   "source": [
    "## <a id='toc5_1_'></a>[imputation](#toc0_)"
   ]
  },
  {
   "cell_type": "code",
   "execution_count": null,
   "metadata": {},
   "outputs": [],
   "source": [
    "# X_train.isna().sum() # check null value"
   ]
  },
  {
   "cell_type": "code",
   "execution_count": null,
   "metadata": {},
   "outputs": [],
   "source": [
    "# y_train.value_counts() # check catagory value"
   ]
  },
  {
   "cell_type": "markdown",
   "metadata": {},
   "source": [
    "## <a id='toc5_2_'></a>[outlier](#toc0_)"
   ]
  },
  {
   "cell_type": "code",
   "execution_count": null,
   "metadata": {},
   "outputs": [],
   "source": [
    "# # see the outlier percentage\n",
    "# def outlier_count(col, data = X_train):\n",
    "    \n",
    "#     # calculate your 25% quatile and 75% quatile\n",
    "#     q75, q25 = np.percentile(data[col], [75, 25])\n",
    "    \n",
    "#     # calculate your inter quatile\n",
    "#     iqr = q75 - q25\n",
    "    \n",
    "#     # min_val and max_val\n",
    "#     min_val = q25 - (iqr*1.5)\n",
    "#     max_val = q75 + (iqr*1.5)\n",
    "    \n",
    "#     # count number of outliers, which are the data that are less than min_val or more than max_val calculated above\n",
    "#     outlier_count = len(np.where((data[col] > max_val) | (data[col] < min_val))[0])\n",
    "    \n",
    "#     # calculate the percentage of the outliers\n",
    "#     outlier_percent = round(outlier_count/len(data[col])*100, 2)\n",
    "    \n",
    "#     if(outlier_count > 0):\n",
    "#         print(\"\\n\"+15*'-' + col + 15*'-'+\"\\n\")\n",
    "#         print('Number of outliers: {}'.format(outlier_count))\n",
    "#         print('Percent of data that is outlier: {}%'.format(outlier_percent))"
   ]
  },
  {
   "cell_type": "markdown",
   "metadata": {},
   "source": [
    "## <a id='toc5_3_'></a>[scalling](#toc0_)"
   ]
  },
  {
   "cell_type": "markdown",
   "metadata": {},
   "source": [
    "no continuose data"
   ]
  },
  {
   "cell_type": "code",
   "execution_count": null,
   "metadata": {},
   "outputs": [],
   "source": [
    "# from sklearn.preprocessing import StandardScaler\n",
    "\n",
    "# # feature scaling helps improve reach convergence faster\n",
    "# scaler = StandardScaler()\n",
    "# X_train = scaler.fit_transform(X_train)\n",
    "# X_test  = scaler.transform(X_test)"
   ]
  },
  {
   "cell_type": "markdown",
   "metadata": {},
   "source": [
    "# <a id='toc6_'></a>[training](#toc0_)"
   ]
  },
  {
   "cell_type": "markdown",
   "metadata": {},
   "source": [
    "the algorithm should try   \n",
    "-[x] multinomial naive bayes (baseline)  \n",
    "-[ ] random forrest (baseline)  \n",
    "-[ ] dicision tree   \n",
    "-[x] gradient or xg boost   "
   ]
  },
  {
   "cell_type": "code",
   "execution_count": null,
   "metadata": {},
   "outputs": [],
   "source": [
    "from sklearn.linear_model import LogisticRegression\n",
    "from sklearn.naive_bayes import GaussianNB,MultinomialNB\n",
    "from sklearn.svm import SVC\n",
    "from sklearn.ensemble import RandomForestClassifier,RandomForestRegressor\n",
    "from sklearn.model_selection import GridSearchCV"
   ]
  },
  {
   "cell_type": "code",
   "execution_count": null,
   "metadata": {},
   "outputs": [],
   "source": [
    "import xgboost\n",
    "\n",
    "xg_classifier = xgboost.XGBClassifier()"
   ]
  },
  {
   "cell_type": "code",
   "execution_count": null,
   "metadata": {},
   "outputs": [
    {
     "name": "stdout",
     "output_type": "stream",
     "text": [
      "[0]\tvalidation_0-mlogloss:0.42781\n",
      "[1]\tvalidation_0-mlogloss:0.33555\n"
     ]
    },
    {
     "name": "stdout",
     "output_type": "stream",
     "text": [
      "[2]\tvalidation_0-mlogloss:0.26645\n",
      "[3]\tvalidation_0-mlogloss:0.21098\n",
      "[4]\tvalidation_0-mlogloss:0.16859\n",
      "[5]\tvalidation_0-mlogloss:0.13328\n",
      "[6]\tvalidation_0-mlogloss:0.10568\n",
      "[7]\tvalidation_0-mlogloss:0.08406\n",
      "[8]\tvalidation_0-mlogloss:0.06691\n"
     ]
    },
    {
     "name": "stderr",
     "output_type": "stream",
     "text": [
      "c:\\Users\\ASUS\\anaconda3\\envs\\ML_env\\lib\\site-packages\\xgboost\\data.py:335: FutureWarning: is_sparse is deprecated and will be removed in a future version. Check `isinstance(dtype, pd.SparseDtype)` instead.\n",
      "  if is_sparse(dtype):\n",
      "c:\\Users\\ASUS\\anaconda3\\envs\\ML_env\\lib\\site-packages\\xgboost\\data.py:338: FutureWarning: is_categorical_dtype is deprecated and will be removed in a future version. Use isinstance(dtype, CategoricalDtype) instead\n",
      "  is_categorical_dtype(dtype) or is_pa_ext_categorical_dtype(dtype)\n",
      "c:\\Users\\ASUS\\anaconda3\\envs\\ML_env\\lib\\site-packages\\xgboost\\data.py:384: FutureWarning: is_categorical_dtype is deprecated and will be removed in a future version. Use isinstance(dtype, CategoricalDtype) instead\n",
      "  if is_categorical_dtype(dtype):\n",
      "c:\\Users\\ASUS\\anaconda3\\envs\\ML_env\\lib\\site-packages\\xgboost\\data.py:359: FutureWarning: is_categorical_dtype is deprecated and will be removed in a future version. Use isinstance(dtype, CategoricalDtype) instead\n",
      "  return is_int or is_bool or is_float or is_categorical_dtype(dtype)\n",
      "c:\\Users\\ASUS\\anaconda3\\envs\\ML_env\\lib\\site-packages\\xgboost\\data.py:335: FutureWarning: is_sparse is deprecated and will be removed in a future version. Check `isinstance(dtype, pd.SparseDtype)` instead.\n",
      "  if is_sparse(dtype):\n",
      "c:\\Users\\ASUS\\anaconda3\\envs\\ML_env\\lib\\site-packages\\xgboost\\data.py:338: FutureWarning: is_categorical_dtype is deprecated and will be removed in a future version. Use isinstance(dtype, CategoricalDtype) instead\n",
      "  is_categorical_dtype(dtype) or is_pa_ext_categorical_dtype(dtype)\n",
      "c:\\Users\\ASUS\\anaconda3\\envs\\ML_env\\lib\\site-packages\\xgboost\\data.py:384: FutureWarning: is_categorical_dtype is deprecated and will be removed in a future version. Use isinstance(dtype, CategoricalDtype) instead\n",
      "  if is_categorical_dtype(dtype):\n",
      "c:\\Users\\ASUS\\anaconda3\\envs\\ML_env\\lib\\site-packages\\xgboost\\data.py:359: FutureWarning: is_categorical_dtype is deprecated and will be removed in a future version. Use isinstance(dtype, CategoricalDtype) instead\n",
      "  return is_int or is_bool or is_float or is_categorical_dtype(dtype)\n"
     ]
    },
    {
     "name": "stdout",
     "output_type": "stream",
     "text": [
      "[9]\tvalidation_0-mlogloss:0.05385\n",
      "[10]\tvalidation_0-mlogloss:0.04372\n",
      "[11]\tvalidation_0-mlogloss:0.03586\n",
      "[12]\tvalidation_0-mlogloss:0.02964\n",
      "[13]\tvalidation_0-mlogloss:0.02483\n",
      "[14]\tvalidation_0-mlogloss:0.02104\n",
      "[15]\tvalidation_0-mlogloss:0.01800\n",
      "[16]\tvalidation_0-mlogloss:0.01553\n",
      "[17]\tvalidation_0-mlogloss:0.01359\n",
      "[18]\tvalidation_0-mlogloss:0.01196\n",
      "[19]\tvalidation_0-mlogloss:0.01079\n",
      "[20]\tvalidation_0-mlogloss:0.01008\n",
      "[21]\tvalidation_0-mlogloss:0.00966\n",
      "[22]\tvalidation_0-mlogloss:0.00934\n",
      "[23]\tvalidation_0-mlogloss:0.00916\n",
      "[24]\tvalidation_0-mlogloss:0.00902\n",
      "[25]\tvalidation_0-mlogloss:0.00892\n",
      "[26]\tvalidation_0-mlogloss:0.00888\n",
      "[27]\tvalidation_0-mlogloss:0.00884\n",
      "[28]\tvalidation_0-mlogloss:0.00881\n",
      "[29]\tvalidation_0-mlogloss:0.00878\n",
      "[30]\tvalidation_0-mlogloss:0.00876\n",
      "[31]\tvalidation_0-mlogloss:0.00874\n",
      "[32]\tvalidation_0-mlogloss:0.00871\n",
      "[33]\tvalidation_0-mlogloss:0.00869\n",
      "[34]\tvalidation_0-mlogloss:0.00867\n",
      "[35]\tvalidation_0-mlogloss:0.00865\n",
      "[36]\tvalidation_0-mlogloss:0.00864\n",
      "[37]\tvalidation_0-mlogloss:0.00863\n",
      "[38]\tvalidation_0-mlogloss:0.00862\n",
      "[39]\tvalidation_0-mlogloss:0.00859\n",
      "[40]\tvalidation_0-mlogloss:0.00858\n",
      "[41]\tvalidation_0-mlogloss:0.00857\n",
      "[42]\tvalidation_0-mlogloss:0.00857\n",
      "[43]\tvalidation_0-mlogloss:0.00856\n",
      "[44]\tvalidation_0-mlogloss:0.00856\n",
      "[45]\tvalidation_0-mlogloss:0.00855\n",
      "[46]\tvalidation_0-mlogloss:0.00853\n",
      "[47]\tvalidation_0-mlogloss:0.00852\n",
      "[48]\tvalidation_0-mlogloss:0.00852\n",
      "[49]\tvalidation_0-mlogloss:0.00851\n",
      "[50]\tvalidation_0-mlogloss:0.00851\n",
      "[51]\tvalidation_0-mlogloss:0.00851\n",
      "[52]\tvalidation_0-mlogloss:0.00851\n",
      "[53]\tvalidation_0-mlogloss:0.00850\n",
      "[54]\tvalidation_0-mlogloss:0.00850\n",
      "[55]\tvalidation_0-mlogloss:0.00850\n",
      "[56]\tvalidation_0-mlogloss:0.00850\n",
      "[57]\tvalidation_0-mlogloss:0.00850\n",
      "[58]\tvalidation_0-mlogloss:0.00850\n",
      "[59]\tvalidation_0-mlogloss:0.00850\n",
      "[60]\tvalidation_0-mlogloss:0.00848\n",
      "[61]\tvalidation_0-mlogloss:0.00848\n",
      "[62]\tvalidation_0-mlogloss:0.00848\n",
      "[63]\tvalidation_0-mlogloss:0.00847\n",
      "[64]\tvalidation_0-mlogloss:0.00848\n",
      "[65]\tvalidation_0-mlogloss:0.00847\n",
      "[66]\tvalidation_0-mlogloss:0.00847\n",
      "[67]\tvalidation_0-mlogloss:0.00847\n",
      "[68]\tvalidation_0-mlogloss:0.00847\n",
      "[69]\tvalidation_0-mlogloss:0.00848\n",
      "[70]\tvalidation_0-mlogloss:0.00847\n",
      "[71]\tvalidation_0-mlogloss:0.00845\n",
      "[72]\tvalidation_0-mlogloss:0.00845\n",
      "[73]\tvalidation_0-mlogloss:0.00845\n",
      "[74]\tvalidation_0-mlogloss:0.00845\n",
      "[75]\tvalidation_0-mlogloss:0.00845\n",
      "[76]\tvalidation_0-mlogloss:0.00844\n",
      "[77]\tvalidation_0-mlogloss:0.00845\n",
      "[78]\tvalidation_0-mlogloss:0.00844\n",
      "[79]\tvalidation_0-mlogloss:0.00844\n",
      "[80]\tvalidation_0-mlogloss:0.00844\n",
      "[81]\tvalidation_0-mlogloss:0.00844\n",
      "[82]\tvalidation_0-mlogloss:0.00844\n",
      "[83]\tvalidation_0-mlogloss:0.00844\n",
      "[84]\tvalidation_0-mlogloss:0.00844\n",
      "[85]\tvalidation_0-mlogloss:0.00844\n",
      "[86]\tvalidation_0-mlogloss:0.00844\n",
      "[87]\tvalidation_0-mlogloss:0.00844\n",
      "[88]\tvalidation_0-mlogloss:0.00844\n",
      "[89]\tvalidation_0-mlogloss:0.00844\n",
      "[90]\tvalidation_0-mlogloss:0.00844\n",
      "[91]\tvalidation_0-mlogloss:0.00844\n",
      "[92]\tvalidation_0-mlogloss:0.00844\n",
      "[93]\tvalidation_0-mlogloss:0.00844\n",
      "[94]\tvalidation_0-mlogloss:0.00844\n",
      "[95]\tvalidation_0-mlogloss:0.00844\n",
      "[96]\tvalidation_0-mlogloss:0.00844\n",
      "[97]\tvalidation_0-mlogloss:0.00844\n",
      "[98]\tvalidation_0-mlogloss:0.00844\n",
      "[99]\tvalidation_0-mlogloss:0.00842\n"
     ]
    },
    {
     "data": {
      "text/html": [
       "<style>#sk-container-id-2 {color: black;}#sk-container-id-2 pre{padding: 0;}#sk-container-id-2 div.sk-toggleable {background-color: white;}#sk-container-id-2 label.sk-toggleable__label {cursor: pointer;display: block;width: 100%;margin-bottom: 0;padding: 0.3em;box-sizing: border-box;text-align: center;}#sk-container-id-2 label.sk-toggleable__label-arrow:before {content: \"▸\";float: left;margin-right: 0.25em;color: #696969;}#sk-container-id-2 label.sk-toggleable__label-arrow:hover:before {color: black;}#sk-container-id-2 div.sk-estimator:hover label.sk-toggleable__label-arrow:before {color: black;}#sk-container-id-2 div.sk-toggleable__content {max-height: 0;max-width: 0;overflow: hidden;text-align: left;background-color: #f0f8ff;}#sk-container-id-2 div.sk-toggleable__content pre {margin: 0.2em;color: black;border-radius: 0.25em;background-color: #f0f8ff;}#sk-container-id-2 input.sk-toggleable__control:checked~div.sk-toggleable__content {max-height: 200px;max-width: 100%;overflow: auto;}#sk-container-id-2 input.sk-toggleable__control:checked~label.sk-toggleable__label-arrow:before {content: \"▾\";}#sk-container-id-2 div.sk-estimator input.sk-toggleable__control:checked~label.sk-toggleable__label {background-color: #d4ebff;}#sk-container-id-2 div.sk-label input.sk-toggleable__control:checked~label.sk-toggleable__label {background-color: #d4ebff;}#sk-container-id-2 input.sk-hidden--visually {border: 0;clip: rect(1px 1px 1px 1px);clip: rect(1px, 1px, 1px, 1px);height: 1px;margin: -1px;overflow: hidden;padding: 0;position: absolute;width: 1px;}#sk-container-id-2 div.sk-estimator {font-family: monospace;background-color: #f0f8ff;border: 1px dotted black;border-radius: 0.25em;box-sizing: border-box;margin-bottom: 0.5em;}#sk-container-id-2 div.sk-estimator:hover {background-color: #d4ebff;}#sk-container-id-2 div.sk-parallel-item::after {content: \"\";width: 100%;border-bottom: 1px solid gray;flex-grow: 1;}#sk-container-id-2 div.sk-label:hover label.sk-toggleable__label {background-color: #d4ebff;}#sk-container-id-2 div.sk-serial::before {content: \"\";position: absolute;border-left: 1px solid gray;box-sizing: border-box;top: 0;bottom: 0;left: 50%;z-index: 0;}#sk-container-id-2 div.sk-serial {display: flex;flex-direction: column;align-items: center;background-color: white;padding-right: 0.2em;padding-left: 0.2em;position: relative;}#sk-container-id-2 div.sk-item {position: relative;z-index: 1;}#sk-container-id-2 div.sk-parallel {display: flex;align-items: stretch;justify-content: center;background-color: white;position: relative;}#sk-container-id-2 div.sk-item::before, #sk-container-id-2 div.sk-parallel-item::before {content: \"\";position: absolute;border-left: 1px solid gray;box-sizing: border-box;top: 0;bottom: 0;left: 50%;z-index: -1;}#sk-container-id-2 div.sk-parallel-item {display: flex;flex-direction: column;z-index: 1;position: relative;background-color: white;}#sk-container-id-2 div.sk-parallel-item:first-child::after {align-self: flex-end;width: 50%;}#sk-container-id-2 div.sk-parallel-item:last-child::after {align-self: flex-start;width: 50%;}#sk-container-id-2 div.sk-parallel-item:only-child::after {width: 0;}#sk-container-id-2 div.sk-dashed-wrapped {border: 1px dashed gray;margin: 0 0.4em 0.5em 0.4em;box-sizing: border-box;padding-bottom: 0.4em;background-color: white;}#sk-container-id-2 div.sk-label label {font-family: monospace;font-weight: bold;display: inline-block;line-height: 1.2em;}#sk-container-id-2 div.sk-label-container {text-align: center;}#sk-container-id-2 div.sk-container {/* jupyter's `normalize.less` sets `[hidden] { display: none; }` but bootstrap.min.css set `[hidden] { display: none !important; }` so we also need the `!important` here to be able to override the default hidden behavior on the sphinx rendered scikit-learn.org. See: https://github.com/scikit-learn/scikit-learn/issues/21755 */display: inline-block !important;position: relative;}#sk-container-id-2 div.sk-text-repr-fallback {display: none;}</style><div id=\"sk-container-id-2\" class=\"sk-top-container\"><div class=\"sk-text-repr-fallback\"><pre>XGBClassifier(base_score=None, booster=None, callbacks=None,\n",
       "              colsample_bylevel=None, colsample_bynode=None,\n",
       "              colsample_bytree=None, device=None, early_stopping_rounds=None,\n",
       "              enable_categorical=False, eval_metric=None, feature_types=None,\n",
       "              gamma=None, grow_policy=None, importance_type=None,\n",
       "              interaction_constraints=None, learning_rate=None, max_bin=None,\n",
       "              max_cat_threshold=None, max_cat_to_onehot=None,\n",
       "              max_delta_step=None, max_depth=None, max_leaves=None,\n",
       "              min_child_weight=None, missing=nan, monotone_constraints=None,\n",
       "              multi_strategy=None, n_estimators=None, n_jobs=None,\n",
       "              num_parallel_tree=None, objective=&#x27;multi:softprob&#x27;, ...)</pre><b>In a Jupyter environment, please rerun this cell to show the HTML representation or trust the notebook. <br />On GitHub, the HTML representation is unable to render, please try loading this page with nbviewer.org.</b></div><div class=\"sk-container\" hidden><div class=\"sk-item\"><div class=\"sk-estimator sk-toggleable\"><input class=\"sk-toggleable__control sk-hidden--visually\" id=\"sk-estimator-id-2\" type=\"checkbox\" checked><label for=\"sk-estimator-id-2\" class=\"sk-toggleable__label sk-toggleable__label-arrow\">XGBClassifier</label><div class=\"sk-toggleable__content\"><pre>XGBClassifier(base_score=None, booster=None, callbacks=None,\n",
       "              colsample_bylevel=None, colsample_bynode=None,\n",
       "              colsample_bytree=None, device=None, early_stopping_rounds=None,\n",
       "              enable_categorical=False, eval_metric=None, feature_types=None,\n",
       "              gamma=None, grow_policy=None, importance_type=None,\n",
       "              interaction_constraints=None, learning_rate=None, max_bin=None,\n",
       "              max_cat_threshold=None, max_cat_to_onehot=None,\n",
       "              max_delta_step=None, max_depth=None, max_leaves=None,\n",
       "              min_child_weight=None, missing=nan, monotone_constraints=None,\n",
       "              multi_strategy=None, n_estimators=None, n_jobs=None,\n",
       "              num_parallel_tree=None, objective=&#x27;multi:softprob&#x27;, ...)</pre></div></div></div></div></div>"
      ],
      "text/plain": [
       "XGBClassifier(base_score=None, booster=None, callbacks=None,\n",
       "              colsample_bylevel=None, colsample_bynode=None,\n",
       "              colsample_bytree=None, device=None, early_stopping_rounds=None,\n",
       "              enable_categorical=False, eval_metric=None, feature_types=None,\n",
       "              gamma=None, grow_policy=None, importance_type=None,\n",
       "              interaction_constraints=None, learning_rate=None, max_bin=None,\n",
       "              max_cat_threshold=None, max_cat_to_onehot=None,\n",
       "              max_delta_step=None, max_depth=None, max_leaves=None,\n",
       "              min_child_weight=None, missing=nan, monotone_constraints=None,\n",
       "              multi_strategy=None, n_estimators=None, n_jobs=None,\n",
       "              num_parallel_tree=None, objective='multi:softprob', ...)"
      ]
     },
     "execution_count": 58,
     "metadata": {},
     "output_type": "execute_result"
    }
   ],
   "source": [
    "xg_classifier.fit(X_train, y_train,\n",
    "                eval_set=[(X_test, y_test)])"
   ]
  },
  {
   "cell_type": "code",
   "execution_count": null,
   "metadata": {},
   "outputs": [],
   "source": [
    "# Get feature importance scores from the model\n",
    "feature_importance = xg_classifier.feature_importances_\n",
    "\n",
    "# Sort the features by importance (in descending order)\n",
    "sorted_indices = np.argsort(feature_importance)[::-1]"
   ]
  },
  {
   "cell_type": "code",
   "execution_count": null,
   "metadata": {},
   "outputs": [
    {
     "name": "stderr",
     "output_type": "stream",
     "text": [
      "c:\\Users\\ASUS\\anaconda3\\envs\\ML_env\\lib\\site-packages\\xgboost\\data.py:335: FutureWarning: is_sparse is deprecated and will be removed in a future version. Check `isinstance(dtype, pd.SparseDtype)` instead.\n",
      "  if is_sparse(dtype):\n",
      "c:\\Users\\ASUS\\anaconda3\\envs\\ML_env\\lib\\site-packages\\xgboost\\data.py:338: FutureWarning: is_categorical_dtype is deprecated and will be removed in a future version. Use isinstance(dtype, CategoricalDtype) instead\n",
      "  is_categorical_dtype(dtype) or is_pa_ext_categorical_dtype(dtype)\n",
      "c:\\Users\\ASUS\\anaconda3\\envs\\ML_env\\lib\\site-packages\\xgboost\\data.py:384: FutureWarning: is_categorical_dtype is deprecated and will be removed in a future version. Use isinstance(dtype, CategoricalDtype) instead\n",
      "  if is_categorical_dtype(dtype):\n",
      "c:\\Users\\ASUS\\anaconda3\\envs\\ML_env\\lib\\site-packages\\xgboost\\data.py:359: FutureWarning: is_categorical_dtype is deprecated and will be removed in a future version. Use isinstance(dtype, CategoricalDtype) instead\n",
      "  return is_int or is_bool or is_float or is_categorical_dtype(dtype)\n"
     ]
    },
    {
     "data": {
      "text/plain": [
       "array(['Cervical spondylosis', 'Hepatitis B'], dtype=object)"
      ]
     },
     "execution_count": 109,
     "metadata": {},
     "output_type": "execute_result"
    }
   ],
   "source": [
    "\n",
    "# symptom = np.zeros(131) ==> symptom[i] = 1  ==> xg_classifier.predict([symptom])\n",
    "predict_disease = xg_classifier.predict(X_train.iloc[:2])\n",
    "# xg_classifier.predict_proba(X_train.iloc[:2])\n",
    "label_encoder.inverse_transform(predict_disease)"
   ]
  },
  {
   "cell_type": "code",
   "execution_count": null,
   "metadata": {},
   "outputs": [
    {
     "name": "stdout",
     "output_type": "stream",
     "text": [
      "Scores:  [1. 1. 1. 1. 1.] - Scores mean:  1.0 - Scores std (lower better):  0.0\n"
     ]
    }
   ],
   "source": [
    "# use x1\n",
    "#any random_state you can use......up to you \n",
    "mnb = MultinomialNB()\n",
    "# lr = LogisticRegression(random_state=96)\n",
    "# rf = RandomForestClassifier(random_state=96)\n",
    "# sv = SVC(random_state=96)\n",
    "# gnb = GaussianNB()\n",
    "\n",
    "models = [mnb]\n",
    "\n",
    "#3.2 perform cross validation using KFold\n",
    "from sklearn.model_selection import KFold, cross_val_score\n",
    "\n",
    "kfold = KFold(n_splits = 5, shuffle = True, random_state=96)\n",
    "\n",
    "\n",
    "for model in models:\n",
    "    score = cross_val_score(model, X_train, y_train, cv=kfold, scoring='accuracy')  #f1, recall, precision, accuracy\n",
    "    print(\"Scores: \", score, \"- Scores mean: \", score.mean(), \"- Scores std (lower better): \", score.std())  #out of 1 ; 1 means perfect accuracy\n",
    "    #lr, rf, sv"
   ]
  },
  {
   "cell_type": "code",
   "execution_count": null,
   "metadata": {},
   "outputs": [
    {
     "data": {
      "text/html": [
       "<style>#sk-container-id-1 {color: black;}#sk-container-id-1 pre{padding: 0;}#sk-container-id-1 div.sk-toggleable {background-color: white;}#sk-container-id-1 label.sk-toggleable__label {cursor: pointer;display: block;width: 100%;margin-bottom: 0;padding: 0.3em;box-sizing: border-box;text-align: center;}#sk-container-id-1 label.sk-toggleable__label-arrow:before {content: \"▸\";float: left;margin-right: 0.25em;color: #696969;}#sk-container-id-1 label.sk-toggleable__label-arrow:hover:before {color: black;}#sk-container-id-1 div.sk-estimator:hover label.sk-toggleable__label-arrow:before {color: black;}#sk-container-id-1 div.sk-toggleable__content {max-height: 0;max-width: 0;overflow: hidden;text-align: left;background-color: #f0f8ff;}#sk-container-id-1 div.sk-toggleable__content pre {margin: 0.2em;color: black;border-radius: 0.25em;background-color: #f0f8ff;}#sk-container-id-1 input.sk-toggleable__control:checked~div.sk-toggleable__content {max-height: 200px;max-width: 100%;overflow: auto;}#sk-container-id-1 input.sk-toggleable__control:checked~label.sk-toggleable__label-arrow:before {content: \"▾\";}#sk-container-id-1 div.sk-estimator input.sk-toggleable__control:checked~label.sk-toggleable__label {background-color: #d4ebff;}#sk-container-id-1 div.sk-label input.sk-toggleable__control:checked~label.sk-toggleable__label {background-color: #d4ebff;}#sk-container-id-1 input.sk-hidden--visually {border: 0;clip: rect(1px 1px 1px 1px);clip: rect(1px, 1px, 1px, 1px);height: 1px;margin: -1px;overflow: hidden;padding: 0;position: absolute;width: 1px;}#sk-container-id-1 div.sk-estimator {font-family: monospace;background-color: #f0f8ff;border: 1px dotted black;border-radius: 0.25em;box-sizing: border-box;margin-bottom: 0.5em;}#sk-container-id-1 div.sk-estimator:hover {background-color: #d4ebff;}#sk-container-id-1 div.sk-parallel-item::after {content: \"\";width: 100%;border-bottom: 1px solid gray;flex-grow: 1;}#sk-container-id-1 div.sk-label:hover label.sk-toggleable__label {background-color: #d4ebff;}#sk-container-id-1 div.sk-serial::before {content: \"\";position: absolute;border-left: 1px solid gray;box-sizing: border-box;top: 0;bottom: 0;left: 50%;z-index: 0;}#sk-container-id-1 div.sk-serial {display: flex;flex-direction: column;align-items: center;background-color: white;padding-right: 0.2em;padding-left: 0.2em;position: relative;}#sk-container-id-1 div.sk-item {position: relative;z-index: 1;}#sk-container-id-1 div.sk-parallel {display: flex;align-items: stretch;justify-content: center;background-color: white;position: relative;}#sk-container-id-1 div.sk-item::before, #sk-container-id-1 div.sk-parallel-item::before {content: \"\";position: absolute;border-left: 1px solid gray;box-sizing: border-box;top: 0;bottom: 0;left: 50%;z-index: -1;}#sk-container-id-1 div.sk-parallel-item {display: flex;flex-direction: column;z-index: 1;position: relative;background-color: white;}#sk-container-id-1 div.sk-parallel-item:first-child::after {align-self: flex-end;width: 50%;}#sk-container-id-1 div.sk-parallel-item:last-child::after {align-self: flex-start;width: 50%;}#sk-container-id-1 div.sk-parallel-item:only-child::after {width: 0;}#sk-container-id-1 div.sk-dashed-wrapped {border: 1px dashed gray;margin: 0 0.4em 0.5em 0.4em;box-sizing: border-box;padding-bottom: 0.4em;background-color: white;}#sk-container-id-1 div.sk-label label {font-family: monospace;font-weight: bold;display: inline-block;line-height: 1.2em;}#sk-container-id-1 div.sk-label-container {text-align: center;}#sk-container-id-1 div.sk-container {/* jupyter's `normalize.less` sets `[hidden] { display: none; }` but bootstrap.min.css set `[hidden] { display: none !important; }` so we also need the `!important` here to be able to override the default hidden behavior on the sphinx rendered scikit-learn.org. See: https://github.com/scikit-learn/scikit-learn/issues/21755 */display: inline-block !important;position: relative;}#sk-container-id-1 div.sk-text-repr-fallback {display: none;}</style><div id=\"sk-container-id-1\" class=\"sk-top-container\"><div class=\"sk-text-repr-fallback\"><pre>MultinomialNB()</pre><b>In a Jupyter environment, please rerun this cell to show the HTML representation or trust the notebook. <br />On GitHub, the HTML representation is unable to render, please try loading this page with nbviewer.org.</b></div><div class=\"sk-container\" hidden><div class=\"sk-item\"><div class=\"sk-estimator sk-toggleable\"><input class=\"sk-toggleable__control sk-hidden--visually\" id=\"sk-estimator-id-1\" type=\"checkbox\" checked><label for=\"sk-estimator-id-1\" class=\"sk-toggleable__label sk-toggleable__label-arrow\">MultinomialNB</label><div class=\"sk-toggleable__content\"><pre>MultinomialNB()</pre></div></div></div></div></div>"
      ],
      "text/plain": [
       "MultinomialNB()"
      ]
     },
     "execution_count": 25,
     "metadata": {},
     "output_type": "execute_result"
    }
   ],
   "source": [
    "mnb.fit(X_train,y_train)"
   ]
  },
  {
   "cell_type": "code",
   "execution_count": null,
   "metadata": {},
   "outputs": [],
   "source": [
    "# from imblearn.over_sampling import SMOTE, ADASYN\n",
    "# from imblearn.pipeline import Pipeline\n",
    "# from sklearn.preprocessing import MinMaxScaler\n",
    "\n",
    "# # Offline upsampling could look like this:\n",
    "# #first upsample / downsample\n",
    "# smote = SMOTE(random_state = 11)\n",
    "# X_train, y_train = smote.fit_resample(X_train, y_train)\n",
    "\n",
    "# #then do scaling + modeling\n",
    "# pipeline = Pipeline(steps = [['scaler', MinMaxScaler()], ['classifier', LogisticRegression(random_state=11, max_iter=1000)]])\n",
    "\n",
    "# param_grid = {'C': [1, 10], 'kernel': ('linear', 'rbf')}\n",
    "# kfold = KFold(n_splits = 5, shuffle = True, random_state=999) \n",
    "# grid_search = GridSearchCV(estimator=pipeline,  param_grid=param_grid, scoring='roc_auc', cv=kfold,  n_jobs=-1)\n",
    "\n",
    "# # Online upsampling could look like this:\n",
    "\n",
    "# #put smote as pipeline\n",
    "# pipeline = Pipeline(steps = [['smote', SMOTE(random_state=11)], ['scaler', MinMaxScaler()], ['classifier', LogisticRegression(random_state=11,  max_iter=1000)]])\n",
    "\n",
    "# param_grid = {'C': [1, 10], 'kernel': ('linear', 'rbf')}\n",
    "# kfold = KFold(n_splits = 5, shuffle = True, random_state=999)\n",
    "# grid_search = GridSearchCV(estimator=pipeline,  param_grid=param_grid, scoring='roc_auc', cv=kfold,  n_jobs=-1)"
   ]
  },
  {
   "cell_type": "code",
   "execution_count": null,
   "metadata": {},
   "outputs": [],
   "source": [
    "# from sklearn.model_selection import GridSearchCV\n",
    "\n",
    "# param_grid = {'bootstrap': [True], 'max_depth': [5, 10, None],\n",
    "#               'n_estimators': [5, 6, 7, 8, 9, 10, 11, 12, 13, 15]}\n",
    "\n",
    "# rf = RandomForestRegressor(random_state = 1)\n",
    "\n",
    "# grid = GridSearchCV(estimator = rf, \n",
    "#                     param_grid = param_grid, \n",
    "#                     cv = kfold, \n",
    "#                     n_jobs = -1, \n",
    "#                     return_train_score=True, \n",
    "#                     refit=True,\n",
    "#                     scoring='neg_mean_squared_error')\n",
    "\n",
    "# # Fit your grid_search\n",
    "# grid.fit(X_train, y_train);  #fit means start looping all the possible parameters"
   ]
  },
  {
   "cell_type": "markdown",
   "metadata": {},
   "source": [
    "# <a id='toc7_'></a>[Test](#toc0_)"
   ]
  },
  {
   "cell_type": "markdown",
   "metadata": {},
   "source": [
    "xg boost"
   ]
  },
  {
   "cell_type": "code",
   "execution_count": null,
   "metadata": {},
   "outputs": [
    {
     "name": "stdout",
     "output_type": "stream",
     "text": [
      "              precision    recall  f1-score   support\n",
      "\n",
      "           0       1.00      1.00      1.00        24\n",
      "           1       1.00      1.00      1.00        24\n",
      "           2       1.00      1.00      1.00        24\n",
      "           3       1.00      1.00      1.00        24\n",
      "           4       1.00      1.00      1.00        24\n",
      "           5       1.00      1.00      1.00        24\n",
      "           6       1.00      1.00      1.00        24\n",
      "           7       1.00      1.00      1.00        24\n",
      "           8       1.00      1.00      1.00        24\n",
      "           9       1.00      1.00      1.00        24\n",
      "          10       1.00      1.00      1.00        24\n",
      "          11       1.00      1.00      1.00        24\n",
      "          12       1.00      1.00      1.00        24\n",
      "          13       1.00      1.00      1.00        24\n",
      "          14       1.00      1.00      1.00        24\n",
      "          15       1.00      1.00      1.00        24\n",
      "          16       1.00      1.00      1.00        24\n",
      "          17       1.00      1.00      1.00        24\n",
      "          18       1.00      1.00      1.00        24\n",
      "          19       1.00      1.00      1.00        24\n",
      "          20       1.00      1.00      1.00        24\n",
      "          21       1.00      1.00      1.00        24\n",
      "          22       1.00      1.00      1.00        24\n",
      "          23       1.00      1.00      1.00        24\n",
      "          24       1.00      1.00      1.00        24\n",
      "          25       1.00      1.00      1.00        24\n",
      "          26       1.00      1.00      1.00        24\n",
      "          27       1.00      1.00      1.00        24\n",
      "          28       1.00      1.00      1.00        24\n",
      "          29       1.00      1.00      1.00        24\n",
      "          30       1.00      1.00      1.00        24\n",
      "          31       1.00      1.00      1.00        24\n",
      "          32       1.00      1.00      1.00        24\n",
      "          33       1.00      1.00      1.00        24\n",
      "          34       1.00      1.00      1.00        24\n",
      "          35       1.00      1.00      1.00        24\n",
      "          36       1.00      1.00      1.00        24\n",
      "          37       1.00      1.00      1.00        24\n",
      "          38       1.00      1.00      1.00        24\n",
      "          39       1.00      1.00      1.00        24\n",
      "          40       1.00      1.00      1.00        24\n",
      "\n",
      "    accuracy                           1.00       984\n",
      "   macro avg       1.00      1.00      1.00       984\n",
      "weighted avg       1.00      1.00      1.00       984\n",
      "\n"
     ]
    },
    {
     "name": "stderr",
     "output_type": "stream",
     "text": [
      "c:\\Users\\ASUS\\anaconda3\\envs\\ML_env\\lib\\site-packages\\xgboost\\data.py:335: FutureWarning: is_sparse is deprecated and will be removed in a future version. Check `isinstance(dtype, pd.SparseDtype)` instead.\n",
      "  if is_sparse(dtype):\n",
      "c:\\Users\\ASUS\\anaconda3\\envs\\ML_env\\lib\\site-packages\\xgboost\\data.py:338: FutureWarning: is_categorical_dtype is deprecated and will be removed in a future version. Use isinstance(dtype, CategoricalDtype) instead\n",
      "  is_categorical_dtype(dtype) or is_pa_ext_categorical_dtype(dtype)\n",
      "c:\\Users\\ASUS\\anaconda3\\envs\\ML_env\\lib\\site-packages\\xgboost\\data.py:384: FutureWarning: is_categorical_dtype is deprecated and will be removed in a future version. Use isinstance(dtype, CategoricalDtype) instead\n",
      "  if is_categorical_dtype(dtype):\n",
      "c:\\Users\\ASUS\\anaconda3\\envs\\ML_env\\lib\\site-packages\\xgboost\\data.py:359: FutureWarning: is_categorical_dtype is deprecated and will be removed in a future version. Use isinstance(dtype, CategoricalDtype) instead\n",
      "  return is_int or is_bool or is_float or is_categorical_dtype(dtype)\n"
     ]
    }
   ],
   "source": [
    "from sklearn.metrics import classification_report\n",
    "\n",
    "print(classification_report(y_test,xg_classifier.predict(X_test)))"
   ]
  },
  {
   "cell_type": "markdown",
   "metadata": {},
   "source": [
    "naive bayes"
   ]
  },
  {
   "cell_type": "code",
   "execution_count": null,
   "metadata": {},
   "outputs": [
    {
     "name": "stdout",
     "output_type": "stream",
     "text": [
      "                                         precision    recall  f1-score   support\n",
      "\n",
      "(vertigo) Paroymsal  Positional Vertigo       1.00      1.00      1.00        24\n",
      "                                   AIDS       1.00      1.00      1.00        24\n",
      "                                   Acne       1.00      1.00      1.00        24\n",
      "                    Alcoholic hepatitis       1.00      1.00      1.00        24\n",
      "                                Allergy       1.00      1.00      1.00        24\n",
      "                              Arthritis       1.00      1.00      1.00        24\n",
      "                       Bronchial Asthma       1.00      1.00      1.00        24\n",
      "                   Cervical spondylosis       1.00      1.00      1.00        24\n",
      "                            Chicken pox       1.00      1.00      1.00        24\n",
      "                    Chronic cholestasis       1.00      1.00      1.00        24\n",
      "                            Common Cold       1.00      1.00      1.00        24\n",
      "                                 Dengue       1.00      1.00      1.00        24\n",
      "                              Diabetes        1.00      1.00      1.00        24\n",
      "           Dimorphic hemmorhoids(piles)       1.00      1.00      1.00        24\n",
      "                          Drug Reaction       1.00      1.00      1.00        24\n",
      "                       Fungal infection       1.00      1.00      1.00        24\n",
      "                                   GERD       1.00      1.00      1.00        24\n",
      "                        Gastroenteritis       1.00      1.00      1.00        24\n",
      "                           Heart attack       1.00      1.00      1.00        24\n",
      "                            Hepatitis B       1.00      1.00      1.00        24\n",
      "                            Hepatitis C       1.00      1.00      1.00        24\n",
      "                            Hepatitis D       1.00      1.00      1.00        24\n",
      "                            Hepatitis E       1.00      1.00      1.00        24\n",
      "                          Hypertension        1.00      1.00      1.00        24\n",
      "                        Hyperthyroidism       1.00      1.00      1.00        24\n",
      "                           Hypoglycemia       1.00      1.00      1.00        24\n",
      "                         Hypothyroidism       1.00      1.00      1.00        24\n",
      "                               Impetigo       1.00      1.00      1.00        24\n",
      "                               Jaundice       1.00      1.00      1.00        24\n",
      "                                Malaria       1.00      1.00      1.00        24\n",
      "                               Migraine       1.00      1.00      1.00        24\n",
      "                        Osteoarthristis       1.00      1.00      1.00        24\n",
      "           Paralysis (brain hemorrhage)       1.00      1.00      1.00        24\n",
      "                    Peptic ulcer diseae       1.00      1.00      1.00        24\n",
      "                              Pneumonia       1.00      1.00      1.00        24\n",
      "                              Psoriasis       1.00      1.00      1.00        24\n",
      "                           Tuberculosis       1.00      1.00      1.00        24\n",
      "                                Typhoid       1.00      1.00      1.00        24\n",
      "                Urinary tract infection       1.00      1.00      1.00        24\n",
      "                         Varicose veins       1.00      1.00      1.00        24\n",
      "                            hepatitis A       1.00      1.00      1.00        24\n",
      "\n",
      "                               accuracy                           1.00       984\n",
      "                              macro avg       1.00      1.00      1.00       984\n",
      "                           weighted avg       1.00      1.00      1.00       984\n",
      "\n"
     ]
    }
   ],
   "source": [
    "from sklearn.metrics import classification_report\n",
    "\n",
    "print(classification_report(y_test,mnb.predict(X_test)))"
   ]
  },
  {
   "cell_type": "markdown",
   "metadata": {},
   "source": [
    "## <a id='toc7_1_'></a>[save](#toc0_)"
   ]
  },
  {
   "cell_type": "code",
   "execution_count": null,
   "metadata": {},
   "outputs": [],
   "source": [
    "import pickle\n",
    "import os\n",
    "\n",
    "name = \"Xg_boost\"\n",
    "\n",
    "# save the model to disk\n",
    "model_path = f\"models/{name}/\"\n",
    "\n",
    "if not os.path.exists(model_path):\n",
    "    os.makedirs(model_path,exist_ok=True)\n",
    "\n",
    "filename = model_path + 'disease_predictor.pkl'\n",
    "preprocess_name = model_path + 'label_encoder.pkl'\n",
    "pickle.dump(xg_classifier, open(filename, 'wb'))\n",
    "pickle.dump(label_encoder, open(preprocess_name, 'wb'))"
   ]
  },
  {
   "cell_type": "code",
   "execution_count": null,
   "metadata": {},
   "outputs": [],
   "source": [
    "import pickle\n",
    "import os\n",
    "\n",
    "name = \"MultinomialNB\"\n",
    "\n",
    "# save the model to disk\n",
    "model_path = f\"models/{name}/\"\n",
    "\n",
    "if not os.path.exists(model_path):\n",
    "    os.makedirs(model_path,exist_ok=True)\n",
    "\n",
    "filename = model_path + 'disease_predictor.pkl'\n",
    "preprocess_name = model_path + 'vectorizer.pkl'\n",
    "pickle.dump(mnb, open(filename, 'wb'))\n",
    "pickle.dump(vectorizer, open(preprocess_name, 'wb'))\n"
   ]
  },
  {
   "cell_type": "markdown",
   "metadata": {},
   "source": [
    "## <a id='toc7_2_'></a>[load](#toc0_)"
   ]
  },
  {
   "cell_type": "code",
   "execution_count": null,
   "metadata": {},
   "outputs": [],
   "source": [
    "import pickle\n",
    "import os\n",
    "\n",
    "mnb = pickle.load(open(\"models/MultinomialNB/disease_predictor.pkl\", 'rb'))\n",
    "vectorizer = pickle.load(open(\"models/MultinomialNB/vectorizer.pkl\",'rb')) "
   ]
  },
  {
   "cell_type": "markdown",
   "metadata": {},
   "source": [
    "# <a id='toc8_'></a>[Inference](#toc0_)"
   ]
  },
  {
   "cell_type": "markdown",
   "metadata": {},
   "source": [
    "## <a id='toc8_1_'></a>[prediction](#toc0_)"
   ]
  },
  {
   "cell_type": "code",
   "execution_count": null,
   "metadata": {},
   "outputs": [
    {
     "name": "stdout",
     "output_type": "stream",
     "text": [
      "Predicted Disease: Fungal infection\n"
     ]
    }
   ],
   "source": [
    "# Assuming 'clf' is your trained model and 'vectorizer' is your CountVectorizer\n",
    "# Define new symptoms\n",
    "new_symptoms = ['itching', 'skin_rash', 'nodal_skin_eruptions', 'dischromic_patches', '', '', '', '', '', '', '', '', '', '', '', '', '']\n",
    "\n",
    "# Preprocess the new symptoms\n",
    "new_symptoms_str = ' '.join(new_symptoms)\n",
    "new_symptoms_vectorized = vectorizer.transform([new_symptoms_str])\n",
    "\n",
    "# Make predictions\n",
    "predicted_disease = mnb.predict(new_symptoms_vectorized)\n",
    "\n",
    "print(f'Predicted Disease: {predicted_disease[0]}')"
   ]
  },
  {
   "cell_type": "code",
   "execution_count": null,
   "metadata": {},
   "outputs": [
    {
     "data": {
      "text/plain": [
       "array([[4.31563038e-09, 1.63054647e-08, 1.50388892e-06, 2.42702611e-09,\n",
       "        1.72880852e-08, 7.26295389e-09, 4.26463383e-09, 7.83081707e-09,\n",
       "        4.44357912e-06, 2.30427910e-07, 9.87066429e-11, 1.88341041e-08,\n",
       "        7.10413974e-10, 7.26295389e-09, 6.68981749e-05, 9.99925449e-01,\n",
       "        4.61015467e-09, 1.61708486e-08, 1.67178060e-08, 3.33772706e-08,\n",
       "        4.21438832e-09, 1.06696391e-09, 2.68925631e-10, 8.22123796e-09,\n",
       "        5.04941678e-10, 3.66305912e-10, 2.72148674e-10, 7.25433835e-07,\n",
       "        1.46409387e-07, 1.59401451e-09, 1.05805403e-09, 4.16488063e-09,\n",
       "        1.63054647e-08, 4.29003739e-09, 5.03187649e-10, 3.83169018e-07,\n",
       "        1.24062554e-10, 3.66305912e-10, 1.60376188e-08, 2.59670839e-09,\n",
       "        5.01441229e-10]])"
      ]
     },
     "execution_count": 16,
     "metadata": {},
     "output_type": "execute_result"
    }
   ],
   "source": [
    "class_probabilities = mnb.predict_proba(new_symptoms_vectorized)\n",
    "class_probabilities"
   ]
  },
  {
   "cell_type": "code",
   "execution_count": null,
   "metadata": {},
   "outputs": [
    {
     "data": {
      "text/plain": [
       "array([ 0,  1,  2,  3,  4,  5,  6,  7,  8,  9, 10, 11, 12, 13, 14, 15, 16,\n",
       "       17, 18, 19, 20, 21, 22, 23, 24, 25, 26, 27, 28, 29, 30, 31, 32, 33,\n",
       "       34, 35, 36, 37, 38, 39, 40], dtype=int64)"
      ]
     },
     "execution_count": 24,
     "metadata": {},
     "output_type": "execute_result"
    }
   ],
   "source": [
    "np.where(class_probabilities[0])[0]"
   ]
  },
  {
   "cell_type": "code",
   "execution_count": null,
   "metadata": {},
   "outputs": [
    {
     "data": {
      "text/plain": [
       "15"
      ]
     },
     "execution_count": 20,
     "metadata": {},
     "output_type": "execute_result"
    }
   ],
   "source": [
    "class_probabilities[0].argmax()"
   ]
  },
  {
   "cell_type": "code",
   "execution_count": null,
   "metadata": {},
   "outputs": [
    {
     "data": {
      "text/plain": [
       "(array(['(vertigo) Paroymsal  Positional Vertigo', 'AIDS', 'Acne',\n",
       "        'Alcoholic hepatitis', 'Allergy', 'Arthritis', 'Bronchial Asthma',\n",
       "        'Cervical spondylosis', 'Chicken pox', 'Chronic cholestasis',\n",
       "        'Common Cold', 'Dengue', 'Diabetes ',\n",
       "        'Dimorphic hemmorhoids(piles)', 'Drug Reaction',\n",
       "        'Fungal infection', 'GERD', 'Gastroenteritis', 'Heart attack',\n",
       "        'Hepatitis B', 'Hepatitis C', 'Hepatitis D', 'Hepatitis E',\n",
       "        'Hypertension ', 'Hyperthyroidism', 'Hypoglycemia',\n",
       "        'Hypothyroidism', 'Impetigo', 'Jaundice', 'Malaria', 'Migraine',\n",
       "        'Osteoarthristis', 'Paralysis (brain hemorrhage)',\n",
       "        'Peptic ulcer diseae', 'Pneumonia', 'Psoriasis', 'Tuberculosis',\n",
       "        'Typhoid', 'Urinary tract infection', 'Varicose veins',\n",
       "        'hepatitis A'], dtype='<U39'),\n",
       " 0.99992544898337,\n",
       " 'Fungal infection')"
      ]
     },
     "execution_count": 5,
     "metadata": {},
     "output_type": "execute_result"
    }
   ],
   "source": [
    "mnb.classes_,class_probabilities[0][15],mnb.classes_[15]"
   ]
  },
  {
   "cell_type": "code",
   "execution_count": null,
   "metadata": {},
   "outputs": [
    {
     "data": {
      "text/plain": [
       "1.0000000000000009"
      ]
     },
     "execution_count": 6,
     "metadata": {},
     "output_type": "execute_result"
    }
   ],
   "source": [
    "class_probabilities.sum()"
   ]
  },
  {
   "cell_type": "code",
   "execution_count": null,
   "metadata": {},
   "outputs": [],
   "source": [
    "vectorizer.get_feature_names_out()"
   ]
  },
  {
   "cell_type": "markdown",
   "metadata": {},
   "source": [
    "## <a id='toc8_2_'></a>[question selector](#toc0_)"
   ]
  },
  {
   "cell_type": "markdown",
   "metadata": {},
   "source": [
    "https://cs.wellesley.edu/~anderson/writing/naive-bayes.pdf  \n",
    "https://citeseerx.ist.psu.edu/doc/10.1.1.60.3182  "
   ]
  },
  {
   "cell_type": "markdown",
   "metadata": {},
   "source": [
    "### <a id='toc8_2_1_'></a>[algorithm](#toc0_)"
   ]
  },
  {
   "cell_type": "markdown",
   "metadata": {},
   "source": [
    "plan1\n",
    "\n",
    "1. random initial question that cover many disease first like fatigue,fever,headache,loss of apentite, nausea, skinrash,vommiting and yellow  (base on the sweetviz report)\n",
    "\n",
    "2. give out the next questiontion use the prob of disease to select the related symptom.\n",
    "\n",
    "3. if yes go on ask another symptom for confirm, else change to second prop disese and try ask symptom related to that disease \n",
    "\n",
    "4. stop when prob exceed threshold 0.8\n",
    "\n",
    "notice: what will happen if user only say no no no or yes yes yes,just for fun\n",
    "- if question more than n times, list all left feature to let user select? or just say \"i don't know\"\n",
    "\n"
   ]
  },
  {
   "cell_type": "code",
   "execution_count": 113,
   "metadata": {},
   "outputs": [],
   "source": [
    "import random\n",
    "\n",
    "class naive_doctor:\n",
    "\n",
    "    def __init__(self,model,vectorizer):\n",
    "        self.vectorizer = vectorizer\n",
    "        self.model = model\n",
    "        self.current_symptoms = []\n",
    "        self.asked_question = []\n",
    "        self.common_symptoms = [\"skin_rash\",\"high_fever\",\"headache\"] # this is just example, can sort by only counting because data is balanced\n",
    "        \n",
    "    def prop_predict(self,input_text):\n",
    "\n",
    "        new_symptoms_vectorized = self.vectorizer.transform([input_text])\n",
    "        class_probabilities = self.model.predict_proba(new_symptoms_vectorized)\n",
    "\n",
    "        return class_probabilities\n",
    "    \n",
    "    def diagnosis(self,answer = None):\n",
    "\n",
    "\n",
    "        if answer == None:\n",
    "            self.current_symptoms = []\n",
    "            symptom = self.initial_guess()\n",
    "            self.asked_question = [symptom]\n",
    "            s= symptom.replace(\"_\",\" \")\n",
    "            question = f\"Do you have {s}? (Y/N): \" # question_for_symptom[symptom]\n",
    "            answer = self.questioning(question)\n",
    "            if answer ==\"y\":\n",
    "                self.current_symptoms.append(symptom)\n",
    "            return self.diagnosis(answer=answer)\n",
    "\n",
    "\n",
    "\n",
    "        cls_prop = self.prop_predict(' '.join(self.current_symptoms))[0]\n",
    "        cls_prop_idx = sorted(np.where(cls_prop)[0],key= lambda x:cls_prop[x],reverse=True)\n",
    "\n",
    "\n",
    "        if max(cls_prop) > 0.8:\n",
    "            print(max(cls_prop))\n",
    "            return self.model.classes_[cls_prop.argmax()]\n",
    "        \n",
    "\n",
    "\n",
    "        \n",
    "        for disease_idx in cls_prop_idx:\n",
    "\n",
    "\n",
    "            \n",
    "            # find feature related to disease\n",
    "            symptoms_prop =np.exp(self.model.feature_log_prob_[disease_idx])\n",
    "            symptom_list = np.where(symptoms_prop > 0.01)[0]\n",
    "            symptom_list = sorted(symptom_list, key=lambda x:symptoms_prop[x],reverse=True)\n",
    "\n",
    "            for symptom_idx in symptom_list:\n",
    "\n",
    "                symptom = self.vectorizer.get_feature_names_out()[symptom_idx]\n",
    "                if symptom not in self.asked_question:\n",
    "                    s= symptom.replace(\"_\",\" \")\n",
    "                    question = f\"Do you have {s}? (Y/N): \"\n",
    "                    answer = self.questioning(question)\n",
    "                    self.asked_question.append(symptom)\n",
    "                    \n",
    "                    if answer ==\"y\":\n",
    "\n",
    "                        self.current_symptoms.append(symptom)\n",
    "                        return self.diagnosis(answer=answer)\n",
    "\n",
    "                    else:\n",
    "                        if len(self.asked_question)> 5:\n",
    "                            return \"i don't know..\"\n",
    "                        break\n",
    "        \n",
    "                    \n",
    "    def initial_guess(self):\n",
    "        symptom = random.choice(self.common_symptoms)\n",
    "        return symptom\n",
    "    \n",
    "\n",
    "    def questioning(self,question):\n",
    "        \"\"\"\n",
    "        change here to request, for deploy flask\n",
    "        \"\"\"\n",
    "\n",
    "        while True:\n",
    "            user_input = input(question).lower()\n",
    "            if user_input == 'y' or user_input == 'n':\n",
    "                return user_input\n",
    "            else:\n",
    "                print(\"Invalid input. Please enter 'y' for yes or 'n' for no.\")\n",
    "\n",
    "\n",
    "                \n"
   ]
  },
  {
   "cell_type": "code",
   "execution_count": 108,
   "metadata": {},
   "outputs": [],
   "source": [
    "test_doctor = naive_doctor(model=mnb,vectorizer=vectorizer)"
   ]
  },
  {
   "cell_type": "code",
   "execution_count": null,
   "metadata": {},
   "outputs": [],
   "source": [
    "new_symptoms = ['itching', 'skin_rash', 'nodal_skin_eruptions', 'dischromic_patches'] # example for Fungal infection"
   ]
  },
  {
   "cell_type": "code",
   "execution_count": null,
   "metadata": {},
   "outputs": [
    {
     "name": "stdout",
     "output_type": "stream",
     "text": [
      "0.9625985266046814\n"
     ]
    },
    {
     "data": {
      "text/plain": [
       "'Fungal infection'"
      ]
     },
     "execution_count": 43,
     "metadata": {},
     "output_type": "execute_result"
    }
   ],
   "source": [
    "test_doctor.diagnosis() "
   ]
  },
  {
   "cell_type": "code",
   "execution_count": null,
   "metadata": {},
   "outputs": [
    {
     "name": "stdout",
     "output_type": "stream",
     "text": [
      "0.9560410191413765\n"
     ]
    },
    {
     "data": {
      "text/plain": [
       "'Hypertension '"
      ]
     },
     "execution_count": 45,
     "metadata": {},
     "output_type": "execute_result"
    }
   ],
   "source": [
    "test_doctor.diagnosis() # try random y n"
   ]
  },
  {
   "cell_type": "code",
   "execution_count": 115,
   "metadata": {},
   "outputs": [
    {
     "data": {
      "text/plain": [
       "\"i don't know..\""
      ]
     },
     "execution_count": 115,
     "metadata": {},
     "output_type": "execute_result"
    }
   ],
   "source": [
    "test_doctor.diagnosis() # say only no"
   ]
  },
  {
   "cell_type": "markdown",
   "metadata": {},
   "source": [
    "### <a id='toc8_2_2_'></a>[reinforcement](#toc0_)"
   ]
  },
  {
   "cell_type": "markdown",
   "metadata": {},
   "source": [
    "create the question selector agent that will select the optimal question base on current symptom information and propbability of diseas predictior model  \n",
    "\n",
    "plan 1  \n",
    "  \n",
    "observe space:   \n",
    "* prop from disease predictor  \n",
    "* current symptoms (not have idea yet)  \n",
    "\n",
    "reward:  \n",
    "* +10 (mean symptoms for each disease ~ 7.8) when disease predictor confident exceed threshold 0.8 \n",
    "* -1 every question ask  \n",
    "\n",
    "action:  \n",
    "131 question for symptoms \n",
    "\n",
    "env:\n",
    "\n",
    "- random sample from data set  \n",
    "* give yes no or propably  \n",
    "\n",
    "extra: \n",
    "can it detect?\n",
    "- say yes and no only guy\n",
    "- random guy\n",
    "\n"
   ]
  },
  {
   "cell_type": "markdown",
   "metadata": {},
   "source": [
    "https://www.gymlibrary.dev/content/environment_creation/"
   ]
  },
  {
   "cell_type": "code",
   "execution_count": 2,
   "metadata": {},
   "outputs": [
    {
     "data": {
      "text/plain": [
       "'0.26.2'"
      ]
     },
     "execution_count": 2,
     "metadata": {},
     "output_type": "execute_result"
    }
   ],
   "source": [
    "import gym\n",
    "gym.__version__"
   ]
  },
  {
   "cell_type": "code",
   "execution_count": null,
   "metadata": {},
   "outputs": [],
   "source": [
    "\n",
    "\n",
    "class patient(gym.env):\n",
    "\n",
    "    def __init__(self):\n",
    "        pass\n",
    "\n",
    "    "
   ]
  }
 ],
 "metadata": {
  "kernelspec": {
   "display_name": "torch",
   "language": "python",
   "name": "python3"
  },
  "language_info": {
   "codemirror_mode": {
    "name": "ipython",
    "version": 3
   },
   "file_extension": ".py",
   "mimetype": "text/x-python",
   "name": "python",
   "nbconvert_exporter": "python",
   "pygments_lexer": "ipython3",
   "version": "3.9.17"
  },
  "orig_nbformat": 4
 },
 "nbformat": 4,
 "nbformat_minor": 2
}
