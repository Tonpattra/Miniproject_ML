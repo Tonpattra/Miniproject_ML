{
 "cells": [
  {
   "cell_type": "code",
   "execution_count": 23,
   "id": "327dbf99",
   "metadata": {
    "execution": {
     "iopub.execute_input": "2023-10-29T07:22:35.361445Z",
     "iopub.status.busy": "2023-10-29T07:22:35.360504Z",
     "iopub.status.idle": "2023-10-29T07:22:47.707715Z",
     "shell.execute_reply": "2023-10-29T07:22:47.706233Z"
    },
    "papermill": {
     "duration": 12.358847,
     "end_time": "2023-10-29T07:22:47.711640",
     "exception": false,
     "start_time": "2023-10-29T07:22:35.352793",
     "status": "completed"
    },
    "tags": []
   },
   "outputs": [],
   "source": [
    "import pandas as pd\n",
    "import numpy as np\n",
    "import matplotlib.pyplot as plt\n",
    "import seaborn as sns\n",
    "from sklearn.preprocessing import LabelEncoder\n",
    "import warnings\n",
    "import tensorflow as tf\n",
    "import matplotlib.pyplot as plt\n",
    "from keras.layers import *\n",
    "from sklearn.model_selection import train_test_split\n",
    "import keras\n",
    "import tensorflow as tf\n",
    "from tensorflow.keras.utils import to_categorical\n",
    "from keras.models import Sequential\n",
    "from keras.layers import Dense"
   ]
  },
  {
   "cell_type": "code",
   "execution_count": 24,
   "id": "0991e8bf",
   "metadata": {
    "execution": {
     "iopub.execute_input": "2023-10-29T07:22:47.727394Z",
     "iopub.status.busy": "2023-10-29T07:22:47.726326Z",
     "iopub.status.idle": "2023-10-29T07:22:47.774926Z",
     "shell.execute_reply": "2023-10-29T07:22:47.773914Z"
    },
    "papermill": {
     "duration": 0.060061,
     "end_time": "2023-10-29T07:22:47.778137",
     "exception": false,
     "start_time": "2023-10-29T07:22:47.718076",
     "status": "completed"
    },
    "tags": []
   },
   "outputs": [
    {
     "data": {
      "text/html": [
       "<div>\n",
       "<style scoped>\n",
       "    .dataframe tbody tr th:only-of-type {\n",
       "        vertical-align: middle;\n",
       "    }\n",
       "\n",
       "    .dataframe tbody tr th {\n",
       "        vertical-align: top;\n",
       "    }\n",
       "\n",
       "    .dataframe thead th {\n",
       "        text-align: right;\n",
       "    }\n",
       "</style>\n",
       "<table border=\"1\" class=\"dataframe\">\n",
       "  <thead>\n",
       "    <tr style=\"text-align: right;\">\n",
       "      <th></th>\n",
       "      <th>GENDER</th>\n",
       "      <th>AGE</th>\n",
       "      <th>SMOKING</th>\n",
       "      <th>YELLOW_FINGERS</th>\n",
       "      <th>ANXIETY</th>\n",
       "      <th>PEER_PRESSURE</th>\n",
       "      <th>CHRONIC DISEASE</th>\n",
       "      <th>FATIGUE</th>\n",
       "      <th>ALLERGY</th>\n",
       "      <th>WHEEZING</th>\n",
       "      <th>ALCOHOL CONSUMING</th>\n",
       "      <th>COUGHING</th>\n",
       "      <th>SHORTNESS OF BREATH</th>\n",
       "      <th>SWALLOWING DIFFICULTY</th>\n",
       "      <th>CHEST PAIN</th>\n",
       "      <th>LUNG_CANCER</th>\n",
       "    </tr>\n",
       "  </thead>\n",
       "  <tbody>\n",
       "    <tr>\n",
       "      <th>0</th>\n",
       "      <td>M</td>\n",
       "      <td>69</td>\n",
       "      <td>1</td>\n",
       "      <td>2</td>\n",
       "      <td>2</td>\n",
       "      <td>1</td>\n",
       "      <td>1</td>\n",
       "      <td>2</td>\n",
       "      <td>1</td>\n",
       "      <td>2</td>\n",
       "      <td>2</td>\n",
       "      <td>2</td>\n",
       "      <td>2</td>\n",
       "      <td>2</td>\n",
       "      <td>2</td>\n",
       "      <td>YES</td>\n",
       "    </tr>\n",
       "    <tr>\n",
       "      <th>1</th>\n",
       "      <td>M</td>\n",
       "      <td>74</td>\n",
       "      <td>2</td>\n",
       "      <td>1</td>\n",
       "      <td>1</td>\n",
       "      <td>1</td>\n",
       "      <td>2</td>\n",
       "      <td>2</td>\n",
       "      <td>2</td>\n",
       "      <td>1</td>\n",
       "      <td>1</td>\n",
       "      <td>1</td>\n",
       "      <td>2</td>\n",
       "      <td>2</td>\n",
       "      <td>2</td>\n",
       "      <td>YES</td>\n",
       "    </tr>\n",
       "    <tr>\n",
       "      <th>2</th>\n",
       "      <td>F</td>\n",
       "      <td>59</td>\n",
       "      <td>1</td>\n",
       "      <td>1</td>\n",
       "      <td>1</td>\n",
       "      <td>2</td>\n",
       "      <td>1</td>\n",
       "      <td>2</td>\n",
       "      <td>1</td>\n",
       "      <td>2</td>\n",
       "      <td>1</td>\n",
       "      <td>2</td>\n",
       "      <td>2</td>\n",
       "      <td>1</td>\n",
       "      <td>2</td>\n",
       "      <td>NO</td>\n",
       "    </tr>\n",
       "    <tr>\n",
       "      <th>3</th>\n",
       "      <td>M</td>\n",
       "      <td>63</td>\n",
       "      <td>2</td>\n",
       "      <td>2</td>\n",
       "      <td>2</td>\n",
       "      <td>1</td>\n",
       "      <td>1</td>\n",
       "      <td>1</td>\n",
       "      <td>1</td>\n",
       "      <td>1</td>\n",
       "      <td>2</td>\n",
       "      <td>1</td>\n",
       "      <td>1</td>\n",
       "      <td>2</td>\n",
       "      <td>2</td>\n",
       "      <td>NO</td>\n",
       "    </tr>\n",
       "    <tr>\n",
       "      <th>4</th>\n",
       "      <td>F</td>\n",
       "      <td>63</td>\n",
       "      <td>1</td>\n",
       "      <td>2</td>\n",
       "      <td>1</td>\n",
       "      <td>1</td>\n",
       "      <td>1</td>\n",
       "      <td>1</td>\n",
       "      <td>1</td>\n",
       "      <td>2</td>\n",
       "      <td>1</td>\n",
       "      <td>2</td>\n",
       "      <td>2</td>\n",
       "      <td>1</td>\n",
       "      <td>1</td>\n",
       "      <td>NO</td>\n",
       "    </tr>\n",
       "  </tbody>\n",
       "</table>\n",
       "</div>"
      ],
      "text/plain": [
       "  GENDER  AGE  SMOKING  YELLOW_FINGERS  ANXIETY  PEER_PRESSURE  \\\n",
       "0      M   69        1               2        2              1   \n",
       "1      M   74        2               1        1              1   \n",
       "2      F   59        1               1        1              2   \n",
       "3      M   63        2               2        2              1   \n",
       "4      F   63        1               2        1              1   \n",
       "\n",
       "   CHRONIC DISEASE  FATIGUE   ALLERGY   WHEEZING  ALCOHOL CONSUMING  COUGHING  \\\n",
       "0                1         2         1         2                  2         2   \n",
       "1                2         2         2         1                  1         1   \n",
       "2                1         2         1         2                  1         2   \n",
       "3                1         1         1         1                  2         1   \n",
       "4                1         1         1         2                  1         2   \n",
       "\n",
       "   SHORTNESS OF BREATH  SWALLOWING DIFFICULTY  CHEST PAIN LUNG_CANCER  \n",
       "0                    2                      2           2         YES  \n",
       "1                    2                      2           2         YES  \n",
       "2                    2                      1           2          NO  \n",
       "3                    1                      2           2          NO  \n",
       "4                    2                      1           1          NO  "
      ]
     },
     "execution_count": 24,
     "metadata": {},
     "output_type": "execute_result"
    }
   ],
   "source": [
    "df = pd.read_csv(\"./survey lung cancer.csv\")\n",
    "df.head()"
   ]
  },
  {
   "cell_type": "code",
   "execution_count": 25,
   "id": "5487ce44",
   "metadata": {
    "execution": {
     "iopub.execute_input": "2023-10-29T07:22:47.794619Z",
     "iopub.status.busy": "2023-10-29T07:22:47.793479Z",
     "iopub.status.idle": "2023-10-29T07:22:47.829024Z",
     "shell.execute_reply": "2023-10-29T07:22:47.827700Z"
    },
    "papermill": {
     "duration": 0.046717,
     "end_time": "2023-10-29T07:22:47.831861",
     "exception": false,
     "start_time": "2023-10-29T07:22:47.785144",
     "status": "completed"
    },
    "tags": []
   },
   "outputs": [
    {
     "name": "stdout",
     "output_type": "stream",
     "text": [
      "Data shape:\n",
      "(309, 16)\n",
      "Data info:\n",
      "<class 'pandas.core.frame.DataFrame'>\n",
      "RangeIndex: 309 entries, 0 to 308\n",
      "Data columns (total 16 columns):\n",
      " #   Column                 Non-Null Count  Dtype \n",
      "---  ------                 --------------  ----- \n",
      " 0   GENDER                 309 non-null    object\n",
      " 1   AGE                    309 non-null    int64 \n",
      " 2   SMOKING                309 non-null    int64 \n",
      " 3   YELLOW_FINGERS         309 non-null    int64 \n",
      " 4   ANXIETY                309 non-null    int64 \n",
      " 5   PEER_PRESSURE          309 non-null    int64 \n",
      " 6   CHRONIC DISEASE        309 non-null    int64 \n",
      " 7   FATIGUE                309 non-null    int64 \n",
      " 8   ALLERGY                309 non-null    int64 \n",
      " 9   WHEEZING               309 non-null    int64 \n",
      " 10  ALCOHOL CONSUMING      309 non-null    int64 \n",
      " 11  COUGHING               309 non-null    int64 \n",
      " 12  SHORTNESS OF BREATH    309 non-null    int64 \n",
      " 13  SWALLOWING DIFFICULTY  309 non-null    int64 \n",
      " 14  CHEST PAIN             309 non-null    int64 \n",
      " 15  LUNG_CANCER            309 non-null    object\n",
      "dtypes: int64(14), object(2)\n",
      "memory usage: 38.8+ KB\n",
      "None\n"
     ]
    }
   ],
   "source": [
    "print(\"Data shape:\")\n",
    "print(df.shape)\n",
    "print(\"Data info:\")\n",
    "print(df.info())"
   ]
  },
  {
   "cell_type": "code",
   "execution_count": 26,
   "id": "01ff5f16",
   "metadata": {
    "execution": {
     "iopub.execute_input": "2023-10-29T07:22:47.849948Z",
     "iopub.status.busy": "2023-10-29T07:22:47.847230Z",
     "iopub.status.idle": "2023-10-29T07:22:48.208704Z",
     "shell.execute_reply": "2023-10-29T07:22:48.207787Z"
    },
    "papermill": {
     "duration": 0.372182,
     "end_time": "2023-10-29T07:22:48.210930",
     "exception": false,
     "start_time": "2023-10-29T07:22:47.838748",
     "status": "completed"
    },
    "tags": []
   },
   "outputs": [
    {
     "name": "stdout",
     "output_type": "stream",
     "text": [
      "Class 0: 270\n",
      "Class 1: 39\n",
      "Proportion: 6.92 : 1\n"
     ]
    },
    {
     "data": {
      "image/png": "[encoded data removed]",
      "text/plain": [
       "<Figure size 640x480 with 1 Axes>"
      ]
     },
     "metadata": {},
     "output_type": "display_data"
    }
   ],
   "source": [
    "target_count =df['LUNG_CANCER'].value_counts()\n",
    "print('Class 0:', target_count[0])\n",
    "print('Class 1:', target_count[1])\n",
    "print('Proportion:', round(target_count[0] / target_count[1], 2), ': 1')\n",
    "\n",
    "target_count.plot(kind='bar', title='Count (target)');"
   ]
  },
  {
   "cell_type": "code",
   "execution_count": 27,
   "id": "484fa203",
   "metadata": {
    "execution": {
     "iopub.execute_input": "2023-10-29T07:22:48.227634Z",
     "iopub.status.busy": "2023-10-29T07:22:48.226940Z",
     "iopub.status.idle": "2023-10-29T07:22:48.238042Z",
     "shell.execute_reply": "2023-10-29T07:22:48.237091Z"
    },
    "papermill": {
     "duration": 0.02267,
     "end_time": "2023-10-29T07:22:48.240626",
     "exception": false,
     "start_time": "2023-10-29T07:22:48.217956",
     "status": "completed"
    },
    "tags": []
   },
   "outputs": [],
   "source": [
    "df.drop_duplicates(inplace=True)"
   ]
  },
  {
   "cell_type": "code",
   "execution_count": 28,
   "metadata": {},
   "outputs": [],
   "source": [
    "# import pickle as pkl\n",
    "# with open(\"scaler-lung-cancer.pkl\", \"wb\") as file :\n",
    "#     pkl.dump(scaler, file)"
   ]
  },
  {
   "cell_type": "code",
   "execution_count": 29,
   "id": "a1ffacec",
   "metadata": {
    "execution": {
     "iopub.execute_input": "2023-10-29T07:22:48.257600Z",
     "iopub.status.busy": "2023-10-29T07:22:48.256865Z",
     "iopub.status.idle": "2023-10-29T07:22:48.278075Z",
     "shell.execute_reply": "2023-10-29T07:22:48.276730Z"
    },
    "papermill": {
     "duration": 0.033406,
     "end_time": "2023-10-29T07:22:48.281109",
     "exception": false,
     "start_time": "2023-10-29T07:22:48.247703",
     "status": "completed"
    },
    "tags": []
   },
   "outputs": [
    {
     "data": {
      "text/html": [
       "<div>\n",
       "<style scoped>\n",
       "    .dataframe tbody tr th:only-of-type {\n",
       "        vertical-align: middle;\n",
       "    }\n",
       "\n",
       "    .dataframe tbody tr th {\n",
       "        vertical-align: top;\n",
       "    }\n",
       "\n",
       "    .dataframe thead th {\n",
       "        text-align: right;\n",
       "    }\n",
       "</style>\n",
       "<table border=\"1\" class=\"dataframe\">\n",
       "  <thead>\n",
       "    <tr style=\"text-align: right;\">\n",
       "      <th></th>\n",
       "      <th>GENDER</th>\n",
       "      <th>AGE</th>\n",
       "      <th>SMOKING</th>\n",
       "      <th>YELLOW_FINGERS</th>\n",
       "      <th>ANXIETY</th>\n",
       "      <th>PEER_PRESSURE</th>\n",
       "      <th>CHRONIC DISEASE</th>\n",
       "      <th>FATIGUE</th>\n",
       "      <th>ALLERGY</th>\n",
       "      <th>WHEEZING</th>\n",
       "      <th>ALCOHOL CONSUMING</th>\n",
       "      <th>COUGHING</th>\n",
       "      <th>SHORTNESS OF BREATH</th>\n",
       "      <th>SWALLOWING DIFFICULTY</th>\n",
       "      <th>CHEST PAIN</th>\n",
       "      <th>LUNG_CANCER</th>\n",
       "    </tr>\n",
       "  </thead>\n",
       "  <tbody>\n",
       "    <tr>\n",
       "      <th>0</th>\n",
       "      <td>1</td>\n",
       "      <td>69</td>\n",
       "      <td>1</td>\n",
       "      <td>2</td>\n",
       "      <td>2</td>\n",
       "      <td>1</td>\n",
       "      <td>1</td>\n",
       "      <td>2</td>\n",
       "      <td>1</td>\n",
       "      <td>2</td>\n",
       "      <td>2</td>\n",
       "      <td>2</td>\n",
       "      <td>2</td>\n",
       "      <td>2</td>\n",
       "      <td>2</td>\n",
       "      <td>1</td>\n",
       "    </tr>\n",
       "    <tr>\n",
       "      <th>1</th>\n",
       "      <td>1</td>\n",
       "      <td>74</td>\n",
       "      <td>2</td>\n",
       "      <td>1</td>\n",
       "      <td>1</td>\n",
       "      <td>1</td>\n",
       "      <td>2</td>\n",
       "      <td>2</td>\n",
       "      <td>2</td>\n",
       "      <td>1</td>\n",
       "      <td>1</td>\n",
       "      <td>1</td>\n",
       "      <td>2</td>\n",
       "      <td>2</td>\n",
       "      <td>2</td>\n",
       "      <td>1</td>\n",
       "    </tr>\n",
       "    <tr>\n",
       "      <th>2</th>\n",
       "      <td>0</td>\n",
       "      <td>59</td>\n",
       "      <td>1</td>\n",
       "      <td>1</td>\n",
       "      <td>1</td>\n",
       "      <td>2</td>\n",
       "      <td>1</td>\n",
       "      <td>2</td>\n",
       "      <td>1</td>\n",
       "      <td>2</td>\n",
       "      <td>1</td>\n",
       "      <td>2</td>\n",
       "      <td>2</td>\n",
       "      <td>1</td>\n",
       "      <td>2</td>\n",
       "      <td>0</td>\n",
       "    </tr>\n",
       "    <tr>\n",
       "      <th>3</th>\n",
       "      <td>1</td>\n",
       "      <td>63</td>\n",
       "      <td>2</td>\n",
       "      <td>2</td>\n",
       "      <td>2</td>\n",
       "      <td>1</td>\n",
       "      <td>1</td>\n",
       "      <td>1</td>\n",
       "      <td>1</td>\n",
       "      <td>1</td>\n",
       "      <td>2</td>\n",
       "      <td>1</td>\n",
       "      <td>1</td>\n",
       "      <td>2</td>\n",
       "      <td>2</td>\n",
       "      <td>0</td>\n",
       "    </tr>\n",
       "    <tr>\n",
       "      <th>4</th>\n",
       "      <td>0</td>\n",
       "      <td>63</td>\n",
       "      <td>1</td>\n",
       "      <td>2</td>\n",
       "      <td>1</td>\n",
       "      <td>1</td>\n",
       "      <td>1</td>\n",
       "      <td>1</td>\n",
       "      <td>1</td>\n",
       "      <td>2</td>\n",
       "      <td>1</td>\n",
       "      <td>2</td>\n",
       "      <td>2</td>\n",
       "      <td>1</td>\n",
       "      <td>1</td>\n",
       "      <td>0</td>\n",
       "    </tr>\n",
       "  </tbody>\n",
       "</table>\n",
       "</div>"
      ],
      "text/plain": [
       "   GENDER  AGE  SMOKING  YELLOW_FINGERS  ANXIETY  PEER_PRESSURE  \\\n",
       "0       1   69        1               2        2              1   \n",
       "1       1   74        2               1        1              1   \n",
       "2       0   59        1               1        1              2   \n",
       "3       1   63        2               2        2              1   \n",
       "4       0   63        1               2        1              1   \n",
       "\n",
       "   CHRONIC DISEASE  FATIGUE   ALLERGY   WHEEZING  ALCOHOL CONSUMING  COUGHING  \\\n",
       "0                1         2         1         2                  2         2   \n",
       "1                2         2         2         1                  1         1   \n",
       "2                1         2         1         2                  1         2   \n",
       "3                1         1         1         1                  2         1   \n",
       "4                1         1         1         2                  1         2   \n",
       "\n",
       "   SHORTNESS OF BREATH  SWALLOWING DIFFICULTY  CHEST PAIN  LUNG_CANCER  \n",
       "0                    2                      2           2            1  \n",
       "1                    2                      2           2            1  \n",
       "2                    2                      1           2            0  \n",
       "3                    1                      2           2            0  \n",
       "4                    2                      1           1            0  "
      ]
     },
     "execution_count": 29,
     "metadata": {},
     "output_type": "execute_result"
    }
   ],
   "source": [
    "encoder = LabelEncoder()\n",
    "df['LUNG_CANCER']=encoder.fit_transform(df['LUNG_CANCER'])\n",
    "df['GENDER']=encoder.fit_transform(df['GENDER'])\n",
    "df.head()"
   ]
  },
  {
   "cell_type": "code",
   "execution_count": 30,
   "id": "2fec1500",
   "metadata": {
    "execution": {
     "iopub.execute_input": "2023-10-29T07:22:48.300188Z",
     "iopub.status.busy": "2023-10-29T07:22:48.298914Z",
     "iopub.status.idle": "2023-10-29T07:22:48.307358Z",
     "shell.execute_reply": "2023-10-29T07:22:48.306216Z"
    },
    "papermill": {
     "duration": 0.022751,
     "end_time": "2023-10-29T07:22:48.311516",
     "exception": false,
     "start_time": "2023-10-29T07:22:48.288765",
     "status": "completed"
    },
    "tags": []
   },
   "outputs": [],
   "source": [
    "X=df.drop(['LUNG_CANCER'],axis=1)\n",
    "y=df['LUNG_CANCER']"
   ]
  },
  {
   "cell_type": "code",
   "execution_count": 31,
   "id": "6e2a3cf0",
   "metadata": {
    "execution": {
     "iopub.execute_input": "2023-10-29T07:22:48.335997Z",
     "iopub.status.busy": "2023-10-29T07:22:48.335125Z",
     "iopub.status.idle": "2023-10-29T07:22:48.362118Z",
     "shell.execute_reply": "2023-10-29T07:22:48.361208Z"
    },
    "papermill": {
     "duration": 0.044913,
     "end_time": "2023-10-29T07:22:48.366143",
     "exception": false,
     "start_time": "2023-10-29T07:22:48.321230",
     "status": "completed"
    },
    "tags": []
   },
   "outputs": [
    {
     "data": {
      "text/html": [
       "<div>\n",
       "<style scoped>\n",
       "    .dataframe tbody tr th:only-of-type {\n",
       "        vertical-align: middle;\n",
       "    }\n",
       "\n",
       "    .dataframe tbody tr th {\n",
       "        vertical-align: top;\n",
       "    }\n",
       "\n",
       "    .dataframe thead th {\n",
       "        text-align: right;\n",
       "    }\n",
       "</style>\n",
       "<table border=\"1\" class=\"dataframe\">\n",
       "  <thead>\n",
       "    <tr style=\"text-align: right;\">\n",
       "      <th></th>\n",
       "      <th>GENDER</th>\n",
       "      <th>AGE</th>\n",
       "      <th>SMOKING</th>\n",
       "      <th>YELLOW_FINGERS</th>\n",
       "      <th>ANXIETY</th>\n",
       "      <th>PEER_PRESSURE</th>\n",
       "      <th>CHRONIC DISEASE</th>\n",
       "      <th>FATIGUE</th>\n",
       "      <th>ALLERGY</th>\n",
       "      <th>WHEEZING</th>\n",
       "      <th>ALCOHOL CONSUMING</th>\n",
       "      <th>COUGHING</th>\n",
       "      <th>SHORTNESS OF BREATH</th>\n",
       "      <th>SWALLOWING DIFFICULTY</th>\n",
       "      <th>CHEST PAIN</th>\n",
       "    </tr>\n",
       "  </thead>\n",
       "  <tbody>\n",
       "    <tr>\n",
       "      <th>0</th>\n",
       "      <td>1</td>\n",
       "      <td>69</td>\n",
       "      <td>0</td>\n",
       "      <td>1</td>\n",
       "      <td>1</td>\n",
       "      <td>0</td>\n",
       "      <td>0</td>\n",
       "      <td>1</td>\n",
       "      <td>0</td>\n",
       "      <td>1</td>\n",
       "      <td>1</td>\n",
       "      <td>1</td>\n",
       "      <td>1</td>\n",
       "      <td>1</td>\n",
       "      <td>1</td>\n",
       "    </tr>\n",
       "    <tr>\n",
       "      <th>1</th>\n",
       "      <td>1</td>\n",
       "      <td>74</td>\n",
       "      <td>1</td>\n",
       "      <td>0</td>\n",
       "      <td>0</td>\n",
       "      <td>0</td>\n",
       "      <td>1</td>\n",
       "      <td>1</td>\n",
       "      <td>1</td>\n",
       "      <td>0</td>\n",
       "      <td>0</td>\n",
       "      <td>0</td>\n",
       "      <td>1</td>\n",
       "      <td>1</td>\n",
       "      <td>1</td>\n",
       "    </tr>\n",
       "    <tr>\n",
       "      <th>2</th>\n",
       "      <td>0</td>\n",
       "      <td>59</td>\n",
       "      <td>0</td>\n",
       "      <td>0</td>\n",
       "      <td>0</td>\n",
       "      <td>1</td>\n",
       "      <td>0</td>\n",
       "      <td>1</td>\n",
       "      <td>0</td>\n",
       "      <td>1</td>\n",
       "      <td>0</td>\n",
       "      <td>1</td>\n",
       "      <td>1</td>\n",
       "      <td>0</td>\n",
       "      <td>1</td>\n",
       "    </tr>\n",
       "    <tr>\n",
       "      <th>3</th>\n",
       "      <td>1</td>\n",
       "      <td>63</td>\n",
       "      <td>1</td>\n",
       "      <td>1</td>\n",
       "      <td>1</td>\n",
       "      <td>0</td>\n",
       "      <td>0</td>\n",
       "      <td>0</td>\n",
       "      <td>0</td>\n",
       "      <td>0</td>\n",
       "      <td>1</td>\n",
       "      <td>0</td>\n",
       "      <td>0</td>\n",
       "      <td>1</td>\n",
       "      <td>1</td>\n",
       "    </tr>\n",
       "    <tr>\n",
       "      <th>4</th>\n",
       "      <td>0</td>\n",
       "      <td>63</td>\n",
       "      <td>0</td>\n",
       "      <td>1</td>\n",
       "      <td>0</td>\n",
       "      <td>0</td>\n",
       "      <td>0</td>\n",
       "      <td>0</td>\n",
       "      <td>0</td>\n",
       "      <td>1</td>\n",
       "      <td>0</td>\n",
       "      <td>1</td>\n",
       "      <td>1</td>\n",
       "      <td>0</td>\n",
       "      <td>0</td>\n",
       "    </tr>\n",
       "  </tbody>\n",
       "</table>\n",
       "</div>"
      ],
      "text/plain": [
       "   GENDER  AGE  SMOKING  YELLOW_FINGERS  ANXIETY  PEER_PRESSURE  \\\n",
       "0       1   69        0               1        1              0   \n",
       "1       1   74        1               0        0              0   \n",
       "2       0   59        0               0        0              1   \n",
       "3       1   63        1               1        1              0   \n",
       "4       0   63        0               1        0              0   \n",
       "\n",
       "   CHRONIC DISEASE  FATIGUE   ALLERGY   WHEEZING  ALCOHOL CONSUMING  COUGHING  \\\n",
       "0                0         1         0         1                  1         1   \n",
       "1                1         1         1         0                  0         0   \n",
       "2                0         1         0         1                  0         1   \n",
       "3                0         0         0         0                  1         0   \n",
       "4                0         0         0         1                  0         1   \n",
       "\n",
       "   SHORTNESS OF BREATH  SWALLOWING DIFFICULTY  CHEST PAIN  \n",
       "0                    1                      1           1  \n",
       "1                    1                      1           1  \n",
       "2                    1                      0           1  \n",
       "3                    0                      1           1  \n",
       "4                    1                      0           0  "
      ]
     },
     "execution_count": 31,
     "metadata": {},
     "output_type": "execute_result"
    }
   ],
   "source": [
    "for i in X.columns[2:]:\n",
    "    temp=[]\n",
    "    for j in X[i]:\n",
    "        temp.append(j-1)\n",
    "    X[i]=temp\n",
    "X.head()\n"
   ]
  },
  {
   "cell_type": "code",
   "execution_count": 32,
   "id": "2f33a812",
   "metadata": {
    "execution": {
     "iopub.execute_input": "2023-10-29T07:22:48.391513Z",
     "iopub.status.busy": "2023-10-29T07:22:48.390701Z",
     "iopub.status.idle": "2023-10-29T07:22:49.110615Z",
     "shell.execute_reply": "2023-10-29T07:22:49.109249Z"
    },
    "papermill": {
     "duration": 0.735746,
     "end_time": "2023-10-29T07:22:49.113484",
     "exception": false,
     "start_time": "2023-10-29T07:22:48.377738",
     "status": "completed"
    },
    "tags": []
   },
   "outputs": [],
   "source": [
    "from imblearn.over_sampling import RandomOverSampler\n",
    "X_over,y_over=RandomOverSampler().fit_resample(X,y)"
   ]
  },
  {
   "cell_type": "code",
   "execution_count": 33,
   "id": "c8adfaa4",
   "metadata": {
    "execution": {
     "iopub.execute_input": "2023-10-29T07:22:49.137133Z",
     "iopub.status.busy": "2023-10-29T07:22:49.135858Z",
     "iopub.status.idle": "2023-10-29T07:22:49.145664Z",
     "shell.execute_reply": "2023-10-29T07:22:49.144737Z"
    },
    "papermill": {
     "duration": 0.023505,
     "end_time": "2023-10-29T07:22:49.148325",
     "exception": false,
     "start_time": "2023-10-29T07:22:49.124820",
     "status": "completed"
    },
    "tags": []
   },
   "outputs": [],
   "source": [
    "X_train,X_test,y_train,y_test = train_test_split(X_over,y_over,random_state=42,stratify=y_over)"
   ]
  },
  {
   "cell_type": "code",
   "execution_count": 34,
   "id": "788109e4",
   "metadata": {
    "execution": {
     "iopub.execute_input": "2023-10-29T07:22:49.167060Z",
     "iopub.status.busy": "2023-10-29T07:22:49.166228Z",
     "iopub.status.idle": "2023-10-29T07:22:49.192788Z",
     "shell.execute_reply": "2023-10-29T07:22:49.191626Z"
    },
    "papermill": {
     "duration": 0.039097,
     "end_time": "2023-10-29T07:22:49.195579",
     "exception": false,
     "start_time": "2023-10-29T07:22:49.156482",
     "status": "completed"
    },
    "tags": []
   },
   "outputs": [
    {
     "data": {
      "text/html": [
       "<div>\n",
       "<style scoped>\n",
       "    .dataframe tbody tr th:only-of-type {\n",
       "        vertical-align: middle;\n",
       "    }\n",
       "\n",
       "    .dataframe tbody tr th {\n",
       "        vertical-align: top;\n",
       "    }\n",
       "\n",
       "    .dataframe thead th {\n",
       "        text-align: right;\n",
       "    }\n",
       "</style>\n",
       "<table border=\"1\" class=\"dataframe\">\n",
       "  <thead>\n",
       "    <tr style=\"text-align: right;\">\n",
       "      <th></th>\n",
       "      <th>GENDER</th>\n",
       "      <th>AGE</th>\n",
       "      <th>SMOKING</th>\n",
       "      <th>YELLOW_FINGERS</th>\n",
       "      <th>ANXIETY</th>\n",
       "      <th>PEER_PRESSURE</th>\n",
       "      <th>CHRONIC DISEASE</th>\n",
       "      <th>FATIGUE</th>\n",
       "      <th>ALLERGY</th>\n",
       "      <th>WHEEZING</th>\n",
       "      <th>ALCOHOL CONSUMING</th>\n",
       "      <th>COUGHING</th>\n",
       "      <th>SHORTNESS OF BREATH</th>\n",
       "      <th>SWALLOWING DIFFICULTY</th>\n",
       "      <th>CHEST PAIN</th>\n",
       "    </tr>\n",
       "  </thead>\n",
       "  <tbody>\n",
       "    <tr>\n",
       "      <th>321</th>\n",
       "      <td>1</td>\n",
       "      <td>0.115087</td>\n",
       "      <td>1</td>\n",
       "      <td>1</td>\n",
       "      <td>1</td>\n",
       "      <td>0</td>\n",
       "      <td>0</td>\n",
       "      <td>0</td>\n",
       "      <td>0</td>\n",
       "      <td>0</td>\n",
       "      <td>1</td>\n",
       "      <td>0</td>\n",
       "      <td>0</td>\n",
       "      <td>1</td>\n",
       "      <td>1</td>\n",
       "    </tr>\n",
       "    <tr>\n",
       "      <th>336</th>\n",
       "      <td>0</td>\n",
       "      <td>2.580241</td>\n",
       "      <td>0</td>\n",
       "      <td>0</td>\n",
       "      <td>0</td>\n",
       "      <td>0</td>\n",
       "      <td>1</td>\n",
       "      <td>1</td>\n",
       "      <td>0</td>\n",
       "      <td>0</td>\n",
       "      <td>0</td>\n",
       "      <td>0</td>\n",
       "      <td>1</td>\n",
       "      <td>0</td>\n",
       "      <td>0</td>\n",
       "    </tr>\n",
       "    <tr>\n",
       "      <th>334</th>\n",
       "      <td>0</td>\n",
       "      <td>-0.193058</td>\n",
       "      <td>1</td>\n",
       "      <td>0</td>\n",
       "      <td>0</td>\n",
       "      <td>0</td>\n",
       "      <td>0</td>\n",
       "      <td>1</td>\n",
       "      <td>0</td>\n",
       "      <td>0</td>\n",
       "      <td>0</td>\n",
       "      <td>0</td>\n",
       "      <td>1</td>\n",
       "      <td>0</td>\n",
       "      <td>0</td>\n",
       "    </tr>\n",
       "    <tr>\n",
       "      <th>151</th>\n",
       "      <td>0</td>\n",
       "      <td>0.217801</td>\n",
       "      <td>1</td>\n",
       "      <td>1</td>\n",
       "      <td>0</td>\n",
       "      <td>1</td>\n",
       "      <td>1</td>\n",
       "      <td>0</td>\n",
       "      <td>0</td>\n",
       "      <td>0</td>\n",
       "      <td>0</td>\n",
       "      <td>0</td>\n",
       "      <td>0</td>\n",
       "      <td>0</td>\n",
       "      <td>0</td>\n",
       "    </tr>\n",
       "    <tr>\n",
       "      <th>314</th>\n",
       "      <td>1</td>\n",
       "      <td>0.628660</td>\n",
       "      <td>1</td>\n",
       "      <td>0</td>\n",
       "      <td>1</td>\n",
       "      <td>0</td>\n",
       "      <td>0</td>\n",
       "      <td>1</td>\n",
       "      <td>0</td>\n",
       "      <td>0</td>\n",
       "      <td>0</td>\n",
       "      <td>0</td>\n",
       "      <td>0</td>\n",
       "      <td>0</td>\n",
       "      <td>0</td>\n",
       "    </tr>\n",
       "  </tbody>\n",
       "</table>\n",
       "</div>"
      ],
      "text/plain": [
       "     GENDER       AGE  SMOKING  YELLOW_FINGERS  ANXIETY  PEER_PRESSURE  \\\n",
       "321       1  0.115087        1               1        1              0   \n",
       "336       0  2.580241        0               0        0              0   \n",
       "334       0 -0.193058        1               0        0              0   \n",
       "151       0  0.217801        1               1        0              1   \n",
       "314       1  0.628660        1               0        1              0   \n",
       "\n",
       "     CHRONIC DISEASE  FATIGUE   ALLERGY   WHEEZING  ALCOHOL CONSUMING  \\\n",
       "321                0         0         0         0                  1   \n",
       "336                1         1         0         0                  0   \n",
       "334                0         1         0         0                  0   \n",
       "151                1         0         0         0                  0   \n",
       "314                0         1         0         0                  0   \n",
       "\n",
       "     COUGHING  SHORTNESS OF BREATH  SWALLOWING DIFFICULTY  CHEST PAIN  \n",
       "321         0                    0                      1           1  \n",
       "336         0                    1                      0           0  \n",
       "334         0                    1                      0           0  \n",
       "151         0                    0                      0           0  \n",
       "314         0                    0                      0           0  "
      ]
     },
     "execution_count": 34,
     "metadata": {},
     "output_type": "execute_result"
    }
   ],
   "source": [
    "from sklearn.preprocessing import StandardScaler\n",
    "scaler=StandardScaler()\n",
    "X_train['AGE']=scaler.fit_transform(X_train[['AGE']])\n",
    "X_test['AGE']=scaler.transform(X_test[['AGE']])\n",
    "X_train.head()"
   ]
  },
  {
   "cell_type": "code",
   "execution_count": 35,
   "metadata": {},
   "outputs": [
    {
     "data": {
      "text/plain": [
       "(357,)"
      ]
     },
     "execution_count": 35,
     "metadata": {},
     "output_type": "execute_result"
    }
   ],
   "source": [
    "X_train['AGE'].shape"
   ]
  },
  {
   "cell_type": "code",
   "execution_count": 36,
   "id": "288f8fe3",
   "metadata": {
    "execution": {
     "iopub.execute_input": "2023-10-29T07:22:49.214696Z",
     "iopub.status.busy": "2023-10-29T07:22:49.213876Z",
     "iopub.status.idle": "2023-10-29T07:22:49.230232Z",
     "shell.execute_reply": "2023-10-29T07:22:49.228650Z"
    },
    "papermill": {
     "duration": 0.029389,
     "end_time": "2023-10-29T07:22:49.233228",
     "exception": false,
     "start_time": "2023-10-29T07:22:49.203839",
     "status": "completed"
    },
    "tags": []
   },
   "outputs": [],
   "source": [
    "from sklearn.model_selection import cross_val_score\n",
    "from numpy import mean, std\n",
    "from sklearn.naive_bayes import GaussianNB\n",
    "from sklearn.linear_model import LogisticRegression\n",
    "from sklearn.ensemble import RandomForestClassifier\n",
    "from sklearn.svm import SVC\n"
   ]
  },
  {
   "cell_type": "code",
   "execution_count": 38,
   "metadata": {},
   "outputs": [
    {
     "name": "stdout",
     "output_type": "stream",
     "text": [
      "              precision    recall  f1-score   support\n",
      "\n",
      "           0       0.98      1.00      0.99        60\n",
      "           1       1.00      0.98      0.99        59\n",
      "\n",
      "    accuracy                           0.99       119\n",
      "   macro avg       0.99      0.99      0.99       119\n",
      "weighted avg       0.99      0.99      0.99       119\n",
      "\n",
      "\n",
      "Best Parameters of SVC model is : {'gamma': 100, 'C': 100}\n",
      "\n"
     ]
    },
    {
     "data": {
      "image/png": "[encoded data removed]",
      "text/plain": [
       "<Figure size 800x800 with 2 Axes>"
      ]
     },
     "metadata": {},
     "output_type": "display_data"
    }
   ],
   "source": [
    "from sklearn.model_selection import RandomizedSearchCV\n",
    "from sklearn.metrics import classification_report, confusion_matrix\n",
    "param_grid={'C':[0.001,0.01,0.1,1,10,100], 'gamma':[0.001,0.01,0.1,1,10,100]}\n",
    "rcv=RandomizedSearchCV(SVC(),param_grid,cv=5)\n",
    "rcv.fit(X_train,y_train)\n",
    "y_pred_svc=rcv.predict(X_test)\n",
    "confusion_svc=confusion_matrix(y_test,rcv.predict(X_test))\n",
    "plt.figure(figsize=(8,8))\n",
    "sns.heatmap(confusion_svc,annot=True)\n",
    "plt.xlabel(\"Predicted\")\n",
    "plt.ylabel(\"Actual\")\n",
    "print(classification_report(y_test,y_pred_svc))\n",
    "print(f'\\nBest Parameters of SVC model is : {rcv.best_params_}\\n')"
   ]
  },
  {
   "cell_type": "code",
   "execution_count": 41,
   "metadata": {},
   "outputs": [
    {
     "data": {
      "text/plain": [
       "sklearn.model_selection._search.RandomizedSearchCV"
      ]
     },
     "execution_count": 41,
     "metadata": {},
     "output_type": "execute_result"
    }
   ],
   "source": [
    "type(rcv)"
   ]
  },
  {
   "cell_type": "code",
   "execution_count": 104,
   "id": "9e94dcc4",
   "metadata": {
    "execution": {
     "iopub.execute_input": "2023-10-29T07:22:49.268511Z",
     "iopub.status.busy": "2023-10-29T07:22:49.267579Z",
     "iopub.status.idle": "2023-10-29T07:22:51.703363Z",
     "shell.execute_reply": "2023-10-29T07:22:51.701854Z"
    },
    "papermill": {
     "duration": 2.448708,
     "end_time": "2023-10-29T07:22:51.706414",
     "exception": false,
     "start_time": "2023-10-29T07:22:49.257706",
     "status": "completed"
    },
    "tags": []
   },
   "outputs": [
    {
     "name": "stdout",
     "output_type": "stream",
     "text": [
      "Model: \"sequential_1\"\n",
      "_________________________________________________________________\n",
      " Layer (type)                Output Shape              Param #   \n",
      "=================================================================\n",
      " dense_4 (Dense)             (None, 100)               1600      \n",
      "                                                                 \n",
      " dense_5 (Dense)             (None, 100)               10100     \n",
      "                                                                 \n",
      " dense_6 (Dense)             (None, 100)               10100     \n",
      "                                                                 \n",
      " dense_7 (Dense)             (None, 1)                 101       \n",
      "                                                                 \n",
      "=================================================================\n",
      "Total params: 21901 (85.55 KB)\n",
      "Trainable params: 21901 (85.55 KB)\n",
      "Non-trainable params: 0 (0.00 Byte)\n",
      "_________________________________________________________________\n",
      "Epoch 1/20\n",
      "12/12 [==============================] - 1s 1ms/step - loss: 0.5666 - accuracy: 0.7367\n",
      "Epoch 2/20\n",
      "12/12 [==============================] - 0s 1ms/step - loss: 0.3481 - accuracy: 0.9300\n",
      "Epoch 3/20\n",
      "12/12 [==============================] - 0s 2ms/step - loss: 0.2458 - accuracy: 0.9356\n",
      "Epoch 4/20\n",
      "12/12 [==============================] - 0s 1ms/step - loss: 0.1849 - accuracy: 0.9440\n",
      "Epoch 5/20\n",
      "12/12 [==============================] - 0s 2ms/step - loss: 0.1482 - accuracy: 0.9552\n",
      "Epoch 6/20\n",
      "12/12 [==============================] - 0s 1ms/step - loss: 0.1296 - accuracy: 0.9552\n",
      "Epoch 7/20\n",
      "12/12 [==============================] - 0s 1ms/step - loss: 0.1107 - accuracy: 0.9664\n",
      "Epoch 8/20\n",
      "12/12 [==============================] - 0s 2ms/step - loss: 0.0948 - accuracy: 0.9720\n",
      "Epoch 9/20\n",
      "12/12 [==============================] - 0s 2ms/step - loss: 0.0824 - accuracy: 0.9776\n",
      "Epoch 10/20\n",
      "12/12 [==============================] - 0s 1ms/step - loss: 0.0728 - accuracy: 0.9776\n",
      "Epoch 11/20\n",
      "12/12 [==============================] - 0s 1ms/step - loss: 0.0668 - accuracy: 0.9776\n",
      "Epoch 12/20\n",
      "12/12 [==============================] - 0s 1ms/step - loss: 0.0554 - accuracy: 0.9832\n",
      "Epoch 13/20\n",
      "12/12 [==============================] - 0s 1ms/step - loss: 0.0691 - accuracy: 0.9860\n",
      "Epoch 14/20\n",
      "12/12 [==============================] - 0s 1ms/step - loss: 0.0535 - accuracy: 0.9888\n",
      "Epoch 15/20\n",
      "12/12 [==============================] - 0s 1ms/step - loss: 0.0475 - accuracy: 0.9888\n",
      "Epoch 16/20\n",
      "12/12 [==============================] - 0s 2ms/step - loss: 0.0608 - accuracy: 0.9832\n",
      "Epoch 17/20\n",
      "12/12 [==============================] - 0s 2ms/step - loss: 0.0561 - accuracy: 0.9832\n",
      "Epoch 18/20\n",
      "12/12 [==============================] - 0s 2ms/step - loss: 0.0421 - accuracy: 0.9888\n",
      "Epoch 19/20\n",
      "12/12 [==============================] - 0s 1ms/step - loss: 0.0388 - accuracy: 0.9888\n",
      "Epoch 20/20\n",
      "12/12 [==============================] - 0s 1ms/step - loss: 0.0350 - accuracy: 0.9916\n"
     ]
    }
   ],
   "source": [
    "model = Sequential([\n",
    "    Dense(100, activation='relu', kernel_initializer='he_uniform', input_shape=(15,)),\n",
    "    Dense(100, activation='relu', kernel_initializer='he_uniform'),\n",
    "     Dense(100, activation='relu', kernel_initializer='he_uniform'),\n",
    "    Dense(1, activation='sigmoid')\n",
    "])\n",
    "model.summary()\n",
    "\n",
    "model.compile(optimizer='adam',\n",
    "              loss='binary_crossentropy',\n",
    "              metrics=['accuracy'])\n",
    "\n",
    "# Train the model\n",
    "history = model.fit(X_train, y_train, batch_size=None, epochs=20)"
   ]
  },
  {
   "cell_type": "code",
   "execution_count": 106,
   "metadata": {},
   "outputs": [
    {
     "name": "stderr",
     "output_type": "stream",
     "text": [
      "c:\\Users\\ll\\anaconda3\\envs\\NLP\\lib\\site-packages\\keras\\src\\engine\\training.py:3000: UserWarning: You are saving your model as an HDF5 file via `model.save()`. This file format is considered legacy. We recommend using instead the native Keras format, e.g. `model.save('my_model.keras')`.\n",
      "  saving_api.save_model(\n"
     ]
    }
   ],
   "source": [
    "model.save('my_model.h5')"
   ]
  },
  {
   "cell_type": "code",
   "execution_count": 100,
   "metadata": {},
   "outputs": [
    {
     "name": "stdout",
     "output_type": "stream",
     "text": [
      "Epoch [1/2000], Loss: 0.5369077920913696\n",
      "Epoch [1001/2000], Loss: 0.0003870405489578843\n"
     ]
    }
   ],
   "source": [
    "import torch\n",
    "import torch.nn as nn\n",
    "import torch.optim as optim\n",
    "\n",
    "X_train_numpy = X_train.values.astype(np.float32)\n",
    "y_train_numpy = y_train.values.astype(np.float32).reshape(-1, 1)  \n",
    "\n",
    "X_train_tensor = torch.from_numpy(X_train_numpy)\n",
    "y_train_tensor = torch.from_numpy(y_train_numpy)\n",
    "\n",
    "# Define your model\n",
    "class CustomModel(nn.Module):\n",
    "    def __init__(self):\n",
    "        super(CustomModel, self).__init__()\n",
    "        self.dense1 = nn.Linear(in_features=15, out_features=100)\n",
    "        self.dense2 = nn.Linear(in_features=100, out_features=100)\n",
    "        self.dense3 = nn.Linear(in_features=100, out_features=100)\n",
    "        self.dense4 = nn.Linear(in_features=100, out_features=1)\n",
    "\n",
    "    def forward(self, x):\n",
    "        x = torch.relu(self.dense1(x))\n",
    "        x = torch.relu(self.dense2(x))\n",
    "        x = torch.relu(self.dense3(x))\n",
    "        x = self.dense4(x)\n",
    "        return x\n",
    "\n",
    "# Instantiate the model\n",
    "model = CustomModel()\n",
    "\n",
    "# Define loss function and optimizer\n",
    "criterion = nn.MSELoss()\n",
    "optimizer = optim.Adam(model.parameters(), lr=0.001)\n",
    "\n",
    "# Training loop\n",
    "n_epochs = 2000\n",
    "for epoch in range(n_epochs):\n",
    "    model.train()\n",
    "    optimizer.zero_grad()\n",
    "\n",
    "    # Forward pass\n",
    "    outputs = model(X_train_tensor)\n",
    "    loss = criterion(outputs, y_train_tensor)\n",
    "\n",
    "    # Backpropagation and optimization\n",
    "    loss.backward()\n",
    "    optimizer.step()\n",
    "\n",
    "    # Print training loss for every epoch\n",
    "    if epoch%1000 == 0 :\n",
    "        print(f'Epoch [{epoch+1}/{n_epochs}], Loss: {loss.item()}')"
   ]
  },
  {
   "cell_type": "code",
   "execution_count": 102,
   "metadata": {},
   "outputs": [
    {
     "name": "stdout",
     "output_type": "stream",
     "text": [
      "Validation Loss: 0.49544548988342285\n"
     ]
    }
   ],
   "source": [
    "model.eval()\n",
    "with torch.no_grad():\n",
    "    val_outputs = model(torch.from_numpy(X_test.values.astype(np.float32)))\n",
    "    val_loss = criterion(val_outputs, torch.from_numpy(y_test.values.astype(np.float32)))\n",
    "    print(f'Validation Loss: {val_loss.item()}')"
   ]
  },
  {
   "cell_type": "code",
   "execution_count": null,
   "metadata": {},
   "outputs": [],
   "source": []
  },
  {
   "cell_type": "code",
   "execution_count": null,
   "metadata": {},
   "outputs": [],
   "source": []
  },
  {
   "cell_type": "code",
   "execution_count": 76,
   "metadata": {},
   "outputs": [
    {
     "name": "stdout",
     "output_type": "stream",
     "text": [
      "Net(\n",
      "  (fc1): Linear(in_features=15, out_features=100, bias=True)\n",
      "  (fc2): Linear(in_features=100, out_features=100, bias=True)\n",
      "  (fc3): Linear(in_features=100, out_features=100, bias=True)\n",
      "  (fc4): Linear(in_features=100, out_features=1, bias=True)\n",
      "  (dropout): Dropout(p=0.8, inplace=False)\n",
      ")\n",
      "Epoch 1, Loss: 0.7001411318778992\n",
      "Epoch 1001, Loss: 0.19467408955097198\n",
      "Epoch 2001, Loss: 0.11008812487125397\n",
      "Epoch 3001, Loss: 0.05564657598733902\n",
      "Epoch 4001, Loss: 0.036418404430150986\n",
      "Epoch 5001, Loss: 0.02806307189166546\n",
      "Epoch 6001, Loss: 0.022660784423351288\n",
      "Epoch 7001, Loss: 0.037886545062065125\n",
      "Epoch 8001, Loss: 0.021440528333187103\n",
      "Epoch 9001, Loss: 0.017387527972459793\n",
      "Epoch 10001, Loss: 0.02095540426671505\n",
      "Epoch 11001, Loss: 0.039782263338565826\n",
      "Epoch 12001, Loss: 0.020313212648034096\n",
      "Epoch 13001, Loss: 0.022111091762781143\n",
      "Epoch 14001, Loss: 0.03463137894868851\n",
      "Epoch 15001, Loss: 0.035774488002061844\n",
      "Epoch 16001, Loss: 0.02599029615521431\n",
      "Epoch 17001, Loss: 0.024075563997030258\n",
      "Epoch 18001, Loss: 0.016942977905273438\n",
      "Epoch 19001, Loss: 0.02639288268983364\n"
     ]
    }
   ],
   "source": [
    "import torch\n",
    "import torch.nn as nn\n",
    "import torch.nn.functional as F\n",
    "import torch.optim as optim\n",
    "\n",
    "class Net(nn.Module):\n",
    "    def __init__(self, dropout_rate=0.5):\n",
    "        super(Net, self).__init__()\n",
    "        self.fc1 = nn.Linear(15, 100)\n",
    "        self.fc2 = nn.Linear(100, 100)\n",
    "        self.fc3 = nn.Linear(100, 100)\n",
    "        self.fc4 = nn.Linear(100, 1)\n",
    "        self.dropout = nn.Dropout(dropout_rate)\n",
    "\n",
    "    def forward(self, x):\n",
    "        x = F.relu(self.fc1(x))\n",
    "        x = self.dropout(x)\n",
    "        x = F.relu(self.fc2(x))\n",
    "        x = self.dropout(x)\n",
    "        x = F.relu(self.fc3(x))\n",
    "        x = self.dropout(x)\n",
    "        x = torch.sigmoid(self.fc4(x))\n",
    "        return x\n",
    "\n",
    "# Instantiate the model with a specified dropout rate\n",
    "model = Net(dropout_rate=0.8)\n",
    "\n",
    "\n",
    "print(model)\n",
    "\n",
    "\n",
    "optimizer = optim.Adam(model.parameters(), lr=0.0003)  \n",
    "loss_function = nn.BCELoss()  \n",
    "\n",
    "\n",
    "X_train_numpy = X_train.values.astype(np.float32)\n",
    "y_train_numpy = y_train.values.astype(np.float32).reshape(-1, 1)  \n",
    "\n",
    "X_train_tensor = torch.from_numpy(X_train_numpy)\n",
    "y_train_tensor = torch.from_numpy(y_train_numpy)\n",
    "\n",
    "# Train the model\n",
    "for epoch in range(20000): \n",
    "    optimizer.zero_grad()  \n",
    "    outputs = model(X_train_tensor)  \n",
    "    loss = loss_function(outputs, y_train_tensor.view(-1, 1)) \n",
    "    loss.backward()  \n",
    "    optimizer.step()  \n",
    "\n",
    "    # Print statistics\n",
    "    if epoch%1000 == 0 :\n",
    "        print(f'Epoch {epoch + 1}, Loss: {loss.item()}')"
   ]
  },
  {
   "cell_type": "code",
   "execution_count": 78,
   "metadata": {},
   "outputs": [
    {
     "data": {
      "text/plain": [
       "1"
      ]
     },
     "execution_count": 78,
     "metadata": {},
     "output_type": "execute_result"
    }
   ],
   "source": [
    "y_train[5]"
   ]
  },
  {
   "cell_type": "code",
   "execution_count": 103,
   "metadata": {},
   "outputs": [
    {
     "data": {
      "text/plain": [
       "tensor([[-2.2825e-02],\n",
       "        [-2.6471e-01],\n",
       "        [ 7.0972e-01],\n",
       "        [ 9.8475e-01],\n",
       "        [-3.5548e-01],\n",
       "        [ 1.0544e+00],\n",
       "        [ 9.6718e-01],\n",
       "        [ 5.6420e-01],\n",
       "        [ 9.9567e-01],\n",
       "        [ 9.1346e-01],\n",
       "        [ 1.0092e+00],\n",
       "        [ 3.1310e-04],\n",
       "        [ 7.4600e-04],\n",
       "        [ 8.2314e-01],\n",
       "        [ 1.0790e+00],\n",
       "        [ 1.6738e-03],\n",
       "        [ 1.0512e+00],\n",
       "        [ 9.8021e-04],\n",
       "        [ 1.3142e-03],\n",
       "        [ 1.2555e+00],\n",
       "        [ 9.3115e-01],\n",
       "        [ 1.0861e+00],\n",
       "        [ 1.5369e-03],\n",
       "        [ 9.7688e-01],\n",
       "        [ 2.1425e-03],\n",
       "        [ 9.8021e-04],\n",
       "        [ 1.0212e-03],\n",
       "        [ 1.5369e-03],\n",
       "        [ 1.3401e-03],\n",
       "        [ 1.4966e-03],\n",
       "        [ 9.2436e-01],\n",
       "        [ 1.0253e-03],\n",
       "        [ 9.4863e-01],\n",
       "        [ 9.6970e-01],\n",
       "        [ 1.0739e-03],\n",
       "        [ 1.3912e-03],\n",
       "        [ 1.3214e+00],\n",
       "        [ 1.6545e-03],\n",
       "        [ 1.0253e-03],\n",
       "        [ 4.0217e-01],\n",
       "        [ 1.3142e-03],\n",
       "        [ 1.3454e-03],\n",
       "        [ 1.0181e+00],\n",
       "        [ 1.3401e-03],\n",
       "        [ 9.9756e-04],\n",
       "        [ 8.8454e-01],\n",
       "        [ 8.9011e-04],\n",
       "        [ 3.0201e-01],\n",
       "        [ 1.0973e+00],\n",
       "        [ 7.0783e-01],\n",
       "        [ 8.6992e-01],\n",
       "        [ 1.6738e-03],\n",
       "        [ 1.0488e+00],\n",
       "        [ 1.0039e+00],\n",
       "        [ 1.0009e+00],\n",
       "        [ 1.0791e+00],\n",
       "        [ 8.6716e-04],\n",
       "        [ 9.2567e-01],\n",
       "        [ 1.3401e-03],\n",
       "        [ 8.6716e-04],\n",
       "        [ 9.1604e-01],\n",
       "        [ 7.4600e-04],\n",
       "        [ 1.3454e-03],\n",
       "        [ 1.0525e+00],\n",
       "        [ 1.0739e-03],\n",
       "        [ 8.2296e-04],\n",
       "        [ 8.9011e-04],\n",
       "        [ 1.0561e-03],\n",
       "        [ 1.5052e-03],\n",
       "        [ 1.0016e+00],\n",
       "        [ 8.1986e-01],\n",
       "        [ 1.6738e-03],\n",
       "        [ 9.8021e-04],\n",
       "        [ 1.0793e-03],\n",
       "        [ 7.4600e-04],\n",
       "        [ 1.0561e-03],\n",
       "        [ 6.0625e-04],\n",
       "        [ 1.3142e-03],\n",
       "        [ 8.2296e-04],\n",
       "        [ 7.8812e-01],\n",
       "        [ 1.3711e+00],\n",
       "        [ 1.6545e-03],\n",
       "        [ 8.2810e-01],\n",
       "        [ 1.0253e-03],\n",
       "        [ 1.5052e-03],\n",
       "        [ 9.8851e-01],\n",
       "        [ 9.6453e-01],\n",
       "        [ 8.2275e-01],\n",
       "        [ 9.7724e-01],\n",
       "        [ 1.4714e-03],\n",
       "        [ 8.6716e-04],\n",
       "        [ 9.7528e-01],\n",
       "        [ 1.0722e-03],\n",
       "        [ 1.0263e+00],\n",
       "        [ 1.0224e+00],\n",
       "        [ 2.4874e-04],\n",
       "        [ 1.4714e-03],\n",
       "        [ 1.0321e+00],\n",
       "        [ 1.0528e+00],\n",
       "        [ 1.0284e-03],\n",
       "        [ 1.0538e+00],\n",
       "        [ 5.6284e-04],\n",
       "        [ 1.5369e-03],\n",
       "        [ 1.2210e-02],\n",
       "        [ 1.7215e-03],\n",
       "        [ 1.5369e-03],\n",
       "        [ 6.8190e-01],\n",
       "        [ 8.8250e-01],\n",
       "        [ 7.4600e-04],\n",
       "        [ 6.0625e-04],\n",
       "        [ 8.2296e-04],\n",
       "        [ 1.0289e+00],\n",
       "        [ 1.0284e-03],\n",
       "        [ 8.4818e-01],\n",
       "        [ 1.4714e-03],\n",
       "        [ 1.3912e-03],\n",
       "        [ 7.4778e-01],\n",
       "        [ 9.7817e-04],\n",
       "        [ 1.2054e-03]], grad_fn=<AddmmBackward0>)"
      ]
     },
     "execution_count": 103,
     "metadata": {},
     "output_type": "execute_result"
    }
   ],
   "source": [
    "model(torch.from_numpy(X_test.values.astype(np.float32)))"
   ]
  },
  {
   "cell_type": "code",
   "execution_count": 18,
   "id": "27b272d8",
   "metadata": {
    "execution": {
     "iopub.execute_input": "2023-10-29T07:22:51.740064Z",
     "iopub.status.busy": "2023-10-29T07:22:51.739005Z",
     "iopub.status.idle": "2023-10-29T07:22:52.025553Z",
     "shell.execute_reply": "2023-10-29T07:22:52.024336Z"
    },
    "papermill": {
     "duration": 0.30606,
     "end_time": "2023-10-29T07:22:52.027927",
     "exception": false,
     "start_time": "2023-10-29T07:22:51.721867",
     "status": "completed"
    },
    "tags": []
   },
   "outputs": [
    {
     "name": "stdout",
     "output_type": "stream",
     "text": [
      "4/4 [==============================] - 0s 2ms/step - loss: 0.2518 - accuracy: 0.9328\n",
      "\n",
      "Test accuracy: 0.9327731132507324\n"
     ]
    }
   ],
   "source": [
    "test_loss, test_acc = model.evaluate(X_test, y_test)\n",
    "print('\\nTest accuracy:', test_acc)"
   ]
  },
  {
   "cell_type": "code",
   "execution_count": 28,
   "metadata": {},
   "outputs": [
    {
     "data": {
      "text/plain": [
       "<keras.src.engine.sequential.Sequential at 0x1f7aa9d2820>"
      ]
     },
     "execution_count": 28,
     "metadata": {},
     "output_type": "execute_result"
    }
   ],
   "source": [
    "model"
   ]
  },
  {
   "cell_type": "code",
   "execution_count": 30,
   "metadata": {},
   "outputs": [],
   "source": [
    "model.save('lung-cancer.keras')"
   ]
  },
  {
   "cell_type": "code",
   "execution_count": 59,
   "metadata": {},
   "outputs": [
    {
     "data": {
      "text/plain": [
       "pandas.core.frame.DataFrame"
      ]
     },
     "execution_count": 59,
     "metadata": {},
     "output_type": "execute_result"
    }
   ],
   "source": [
    "type(X_test)"
   ]
  },
  {
   "cell_type": "markdown",
   "metadata": {},
   "source": [
    "## Inference"
   ]
  },
  {
   "cell_type": "code",
   "execution_count": 3,
   "metadata": {},
   "outputs": [],
   "source": [
    "from keras.models import load_model\n",
    "\n",
    "model_cancer = load_model('lung-cancer.keras')"
   ]
  },
  {
   "cell_type": "code",
   "execution_count": 85,
   "metadata": {},
   "outputs": [],
   "source": [
    "my_values = '''\n",
    "{\n",
    "  \"GENDER\": \"0\",\n",
    "  \"AGE\": \"-0.086017\",\n",
    "  \"SMOKING\": \"0\",\n",
    "  \"YELLOW_FINGERS\": \"0\",\n",
    "  \"ANXIETY\": \"0\",\n",
    "  \"PEER_PRESSURE\": \"0\",\n",
    "  \"CHRONIC DISEASE\": \"1\",\n",
    "  \"FATIGUE\": \"1\",\n",
    "  \"ALLERGY\": \"0\",\n",
    "  \"WHEEZING\": \"0\",\n",
    "  \"ALCOHOL CONSUMING\": \"0\",\n",
    "  \"COUGHING\": \"1\",\n",
    "  \"SHORTNESS OF BREATH\": \"0\",\n",
    "  \"SWALLOWING DIFFICULTY\": \"0\",\n",
    "  \"CHEST PAIN\": \"0\"\n",
    "}\n",
    "'''"
   ]
  },
  {
   "cell_type": "code",
   "execution_count": 43,
   "metadata": {},
   "outputs": [],
   "source": [
    "import json\n",
    "question_lung = json.load(open('../Symptom_Checker_Website/data/lung_question.json', 'r'))"
   ]
  },
  {
   "cell_type": "code",
   "execution_count": 14,
   "metadata": {},
   "outputs": [],
   "source": [
    "answers = {key: None for key in question_lung.keys()}"
   ]
  },
  {
   "cell_type": "code",
   "execution_count": 15,
   "metadata": {},
   "outputs": [
    {
     "data": {
      "text/plain": [
       "{'Gender': None,\n",
       " 'Age': None,\n",
       " 'Smoking': None,\n",
       " 'Yellow fingers': None,\n",
       " 'Anxiety': None,\n",
       " 'Peer pressure': None,\n",
       " 'Chronic Disease': None,\n",
       " 'Fatigue': None,\n",
       " 'Allergy': None,\n",
       " 'Wheezing': None,\n",
       " 'Alcohol': None,\n",
       " 'Coughing': None,\n",
       " 'Shortness of Breath': None,\n",
       " 'Swallowing Difficulty': None,\n",
       " 'Chest pain': None,\n",
       " 'Lung Cancer': None}"
      ]
     },
     "execution_count": 15,
     "metadata": {},
     "output_type": "execute_result"
    }
   ],
   "source": [
    "answers"
   ]
  },
  {
   "cell_type": "code",
   "execution_count": 86,
   "metadata": {},
   "outputs": [
    {
     "name": "stdout",
     "output_type": "stream",
     "text": [
      "[ 0.       -0.086017  0.        0.        0.        0.        1.\n",
      "  1.        0.        0.        0.        1.        0.        0.\n",
      "  0.      ]\n"
     ]
    }
   ],
   "source": [
    "import json\n",
    "import numpy as np\n",
    "\n",
    "data_dict = json.loads(my_values)\n",
    "values = [float(value) for value in data_dict.values()]\n",
    "numpy_array = np.array(values)\n",
    "\n",
    "print(numpy_array)"
   ]
  },
  {
   "cell_type": "code",
   "execution_count": 87,
   "metadata": {},
   "outputs": [
    {
     "data": {
      "text/plain": [
       "tensor([1.], grad_fn=<SigmoidBackward0>)"
      ]
     },
     "execution_count": 87,
     "metadata": {},
     "output_type": "execute_result"
    }
   ],
   "source": [
    "model(torch.from_numpy(numpy_array.astype(np.float32)))"
   ]
  },
  {
   "cell_type": "code",
   "execution_count": 71,
   "metadata": {},
   "outputs": [
    {
     "name": "stdout",
     "output_type": "stream",
     "text": [
      "1/1 [==============================] - 0s 16ms/step\n",
      "Can has a chance to be lung cancer at 90.55 percent\n"
     ]
    }
   ],
   "source": [
    "print(f\"Can has a chance to be lung cancer at {model_cancer.predict(numpy_array.reshape(1,-1)).item()*100:.2f} percent\")"
   ]
  },
  {
   "cell_type": "code",
   "execution_count": 31,
   "metadata": {},
   "outputs": [
    {
     "data": {
      "text/plain": [
       "numpy.ndarray"
      ]
     },
     "execution_count": 31,
     "metadata": {},
     "output_type": "execute_result"
    }
   ],
   "source": [
    "type(numpy_array)"
   ]
  },
  {
   "cell_type": "code",
   "execution_count": 32,
   "metadata": {},
   "outputs": [
    {
     "data": {
      "text/plain": [
       "array([[ 0.        , -0.08601674,  1.        , ...,  1.        ,\n",
       "         0.        ,  0.        ],\n",
       "       [ 0.        , -1.38812179,  0.        , ...,  0.        ,\n",
       "         0.        ,  0.        ],\n",
       "       [ 0.        , -0.62856051,  1.        , ...,  1.        ,\n",
       "         0.        ,  1.        ],\n",
       "       ...,\n",
       "       [ 1.        ,  0.89056204,  1.        , ...,  1.        ,\n",
       "         0.        ,  1.        ],\n",
       "       [ 0.        ,  0.89056204,  1.        , ...,  1.        ,\n",
       "         0.        ,  0.        ],\n",
       "       [ 1.        ,  0.78205329,  0.        , ...,  1.        ,\n",
       "         0.        ,  1.        ]])"
      ]
     },
     "execution_count": 32,
     "metadata": {},
     "output_type": "execute_result"
    }
   ],
   "source": [
    "X_test.values"
   ]
  },
  {
   "cell_type": "code",
   "execution_count": 36,
   "metadata": {},
   "outputs": [
    {
     "data": {
      "text/plain": [
       "array([[0.        ],\n",
       "       [2.73521085],\n",
       "       [0.        ],\n",
       "       [0.        ],\n",
       "       [0.        ],\n",
       "       [0.        ],\n",
       "       [1.        ],\n",
       "       [1.        ],\n",
       "       [0.        ],\n",
       "       [0.        ],\n",
       "       [0.        ],\n",
       "       [0.        ],\n",
       "       [1.        ],\n",
       "       [0.        ],\n",
       "       [0.        ]])"
      ]
     },
     "execution_count": 36,
     "metadata": {},
     "output_type": "execute_result"
    }
   ],
   "source": [
    "jj"
   ]
  },
  {
   "cell_type": "code",
   "execution_count": null,
   "metadata": {},
   "outputs": [],
   "source": [
    "jj = jj.reshape(-1, 1)"
   ]
  },
  {
   "cell_type": "code",
   "execution_count": null,
   "metadata": {},
   "outputs": [],
   "source": [
    "jj[1]"
   ]
  },
  {
   "cell_type": "code",
   "execution_count": null,
   "metadata": {},
   "outputs": [],
   "source": [
    "jj[1] = scaler.transform(jj[1].reshape(-1, 1))"
   ]
  },
  {
   "cell_type": "code",
   "execution_count": null,
   "metadata": {},
   "outputs": [],
   "source": [
    "jj"
   ]
  },
  {
   "cell_type": "code",
   "execution_count": 38,
   "metadata": {},
   "outputs": [],
   "source": [
    "sample = a[0]\n",
    "sample = sample.reshape(-1, 1)"
   ]
  },
  {
   "cell_type": "code",
   "execution_count": 39,
   "metadata": {},
   "outputs": [
    {
     "data": {
      "text/plain": [
       "array([[ 0.],\n",
       "       [12.],\n",
       "       [ 1.],\n",
       "       [ 0.],\n",
       "       [ 0.],\n",
       "       [ 0.],\n",
       "       [ 1.],\n",
       "       [ 1.],\n",
       "       [ 1.],\n",
       "       [ 0.],\n",
       "       [ 0.],\n",
       "       [ 0.],\n",
       "       [ 1.],\n",
       "       [ 0.],\n",
       "       [ 0.]])"
      ]
     },
     "execution_count": 39,
     "metadata": {},
     "output_type": "execute_result"
    }
   ],
   "source": [
    "sample"
   ]
  },
  {
   "cell_type": "code",
   "execution_count": 23,
   "metadata": {},
   "outputs": [
    {
     "name": "stdout",
     "output_type": "stream",
     "text": [
      "1/1 [==============================] - 0s 47ms/step\n"
     ]
    },
    {
     "data": {
      "text/plain": [
       "array([[0.]], dtype=float32)"
      ]
     },
     "execution_count": 23,
     "metadata": {},
     "output_type": "execute_result"
    }
   ],
   "source": [
    "model.predict(numpy_array.reshape(1,-1)).round()"
   ]
  },
  {
   "cell_type": "code",
   "execution_count": 40,
   "metadata": {},
   "outputs": [
    {
     "name": "stdout",
     "output_type": "stream",
     "text": [
      "1/1 [==============================] - 0s 60ms/step\n"
     ]
    }
   ],
   "source": [
    "result = model.predict(sample.reshape(1,-1)).round()"
   ]
  },
  {
   "cell_type": "code",
   "execution_count": 87,
   "metadata": {},
   "outputs": [
    {
     "name": "stdout",
     "output_type": "stream",
     "text": [
      "1/1 [==============================] - 0s 15ms/step\n"
     ]
    },
    {
     "data": {
      "text/plain": [
       "'no'"
      ]
     },
     "execution_count": 87,
     "metadata": {},
     "output_type": "execute_result"
    }
   ],
   "source": [
    "\"yes\" if model.predict(sample.reshape(1, -1)).round() == 1 else \"no\""
   ]
  },
  {
   "cell_type": "code",
   "execution_count": 91,
   "metadata": {},
   "outputs": [],
   "source": [
    "jb = lambda sample : \"yes\" if model.predict(sample.reshape(1, -1)).round() == 1 else \"no\""
   ]
  }
 ],
 "metadata": {
  "kernelspec": {
   "display_name": "Python 3",
   "language": "python",
   "name": "python3"
  },
  "language_info": {
   "codemirror_mode": {
    "name": "ipython",
    "version": 3
   },
   "file_extension": ".py",
   "mimetype": "text/x-python",
   "name": "python",
   "nbconvert_exporter": "python",
   "pygments_lexer": "ipython3",
   "version": "3.8.16"
  },
  "papermill": {
   "default_parameters": {},
   "duration": 23.55611,
   "end_time": "2023-10-29T07:22:54.565726",
   "environment_variables": {},
   "exception": null,
   "input_path": "__notebook__.ipynb",
   "output_path": "__notebook__.ipynb",
   "parameters": {},
   "start_time": "2023-10-29T07:22:31.009616",
   "version": "2.4.0"
  }
 },
 "nbformat": 4,
 "nbformat_minor": 5
}
